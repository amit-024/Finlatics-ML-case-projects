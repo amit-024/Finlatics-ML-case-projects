{
  "nbformat": 4,
  "nbformat_minor": 0,
  "metadata": {
    "colab": {
      "provenance": []
    },
    "kernelspec": {
      "name": "python3",
      "display_name": "Python 3"
    },
    "language_info": {
      "name": "python"
    }
  },
  "cells": [
    {
      "cell_type": "markdown",
      "source": [
        "# Project 1\n"
      ],
      "metadata": {
        "id": "O07qsQSuzG3C"
      }
    },
    {
      "cell_type": "markdown",
      "source": [
        "In the case project 1, we have given two datasets as follows:\n",
        "1. Facebook Live Sellers Dataset\n",
        "2. Sales Prediction Dataset"
      ],
      "metadata": {
        "id": "IpiVkQ1YzLRv"
      }
    },
    {
      "cell_type": "markdown",
      "source": [
        "\n",
        "\n",
        "---\n",
        "\n",
        "\n",
        "\n",
        "---\n",
        "\n"
      ],
      "metadata": {
        "id": "mAnX4MEX0HhH"
      }
    },
    {
      "cell_type": "markdown",
      "source": [
        "# 1. Facebook Live Sellers Dataset:"
      ],
      "metadata": {
        "id": "7cWj3N390eXi"
      }
    },
    {
      "cell_type": "markdown",
      "source": [
        "Here is a brief description of dataset.\n",
        "The features given to us for the facebook dataset are: status_id, status_type, status_published, num_reaction, num_comments, num_shares, num_likes, num_loves, num_haha, num_sads, num_angry, etc.\n",
        "\n",
        "What we have to do:\n",
        "1.\tHow does the time of upload (`status_published`)  affects the `num_reaction`?\n",
        "2.\tIs there a correlation between the number of reactions (num_reactions) and other engagement metrics such as comments (num_comments) and shares (num_shares)? If so, what is the strength and direction of this correlation?\n",
        "3.\tUse the columns status_type, num_reactions, num_comments, num_shares, num_likes, num_loves, num_wows, num_hahas, num_sads, and num_angrys to train a K-Means clustering model on the Facebook Live Sellers dataset.\n",
        "4.\tUse the elbow method to find the optimum number of clusters.\n",
        "5.\tWhat is the count of different types of posts in the dataset?\n",
        "6.\tWhat is the average value of num_reaction, num_comments, num_shares for each post type?\n"
      ],
      "metadata": {
        "id": "GbSAwSAi0jit"
      }
    },
    {
      "cell_type": "markdown",
      "source": [
        "\n",
        "\n",
        "---\n",
        "\n"
      ],
      "metadata": {
        "id": "ZPvkw3ZfBi4Z"
      }
    },
    {
      "cell_type": "markdown",
      "source": [
        "1. How does the time of upload (`status_published`)  affects the `num_reaction`?"
      ],
      "metadata": {
        "id": "bTUsh2w01YU8"
      }
    },
    {
      "cell_type": "code",
      "execution_count": 198,
      "metadata": {
        "id": "c45l7C_8zGJB"
      },
      "outputs": [],
      "source": [
        "'''To find out the relationship between these two parameters, Linear Regression will be the best choice, which will help us to predict the new unseen data too.'''\n",
        "#Importing Libraries\n",
        "import pandas as pd\n",
        "import numpy as np\n",
        "import matplotlib.pyplot as plt"
      ]
    },
    {
      "cell_type": "code",
      "source": [
        "# Importing Dataset\n",
        "fb_dataset = pd.read_csv(\"Facebook_Marketplace_data.csv\")"
      ],
      "metadata": {
        "id": "1hGY4uPx2zjZ"
      },
      "execution_count": 199,
      "outputs": []
    },
    {
      "cell_type": "code",
      "source": [
        "# Encoding the Date-Time(status-published) data:\n",
        "fb_dataset['status_published'] = pd.to_datetime(fb_dataset['status_published'])\n",
        "fb_dataset['hour_of_day'] = fb_dataset['status_published'].dt.hour"
      ],
      "metadata": {
        "id": "YVm8bHnp2_EL"
      },
      "execution_count": 200,
      "outputs": []
    },
    {
      "cell_type": "code",
      "source": [
        "X = fb_dataset.iloc[:,[-1]].values\n",
        "Y = fb_dataset.iloc[:,[3]].values"
      ],
      "metadata": {
        "id": "EX3MiYue3PRX"
      },
      "execution_count": 201,
      "outputs": []
    },
    {
      "cell_type": "code",
      "source": [
        "# Handling missing data:\n",
        "from sklearn.impute import SimpleImputer\n",
        "imputer = SimpleImputer(missing_values = np.nan, strategy = 'mean')\n",
        "imputer.fit(Y[:, :])\n",
        "Y[:, :] = imputer.transform(Y[:,:])"
      ],
      "metadata": {
        "id": "yk2X6SQN3aE8"
      },
      "execution_count": 202,
      "outputs": []
    },
    {
      "cell_type": "code",
      "source": [
        "# Splitting Dataset into training and testing data:\n",
        "from sklearn.model_selection import train_test_split\n",
        "X_train, X_test, Y_train, Y_test = train_test_split(X, Y, test_size = 0.2, random_state = 1)"
      ],
      "metadata": {
        "id": "7P4OjS-z3hWR"
      },
      "execution_count": 203,
      "outputs": []
    },
    {
      "cell_type": "code",
      "source": [
        "# Linear Regression Model training:\n",
        "from sklearn.linear_model import LinearRegression\n",
        "regressor = LinearRegression()\n",
        "regressor.fit(X_train, Y_train)"
      ],
      "metadata": {
        "colab": {
          "base_uri": "https://localhost:8080/",
          "height": 74
        },
        "id": "a2k2oiB73qjO",
        "outputId": "3575b8da-2524-46a5-9e29-f24040cb68f7"
      },
      "execution_count": 204,
      "outputs": [
        {
          "output_type": "execute_result",
          "data": {
            "text/plain": [
              "LinearRegression()"
            ],
            "text/html": [
              "<style>#sk-container-id-10 {color: black;}#sk-container-id-10 pre{padding: 0;}#sk-container-id-10 div.sk-toggleable {background-color: white;}#sk-container-id-10 label.sk-toggleable__label {cursor: pointer;display: block;width: 100%;margin-bottom: 0;padding: 0.3em;box-sizing: border-box;text-align: center;}#sk-container-id-10 label.sk-toggleable__label-arrow:before {content: \"▸\";float: left;margin-right: 0.25em;color: #696969;}#sk-container-id-10 label.sk-toggleable__label-arrow:hover:before {color: black;}#sk-container-id-10 div.sk-estimator:hover label.sk-toggleable__label-arrow:before {color: black;}#sk-container-id-10 div.sk-toggleable__content {max-height: 0;max-width: 0;overflow: hidden;text-align: left;background-color: #f0f8ff;}#sk-container-id-10 div.sk-toggleable__content pre {margin: 0.2em;color: black;border-radius: 0.25em;background-color: #f0f8ff;}#sk-container-id-10 input.sk-toggleable__control:checked~div.sk-toggleable__content {max-height: 200px;max-width: 100%;overflow: auto;}#sk-container-id-10 input.sk-toggleable__control:checked~label.sk-toggleable__label-arrow:before {content: \"▾\";}#sk-container-id-10 div.sk-estimator input.sk-toggleable__control:checked~label.sk-toggleable__label {background-color: #d4ebff;}#sk-container-id-10 div.sk-label input.sk-toggleable__control:checked~label.sk-toggleable__label {background-color: #d4ebff;}#sk-container-id-10 input.sk-hidden--visually {border: 0;clip: rect(1px 1px 1px 1px);clip: rect(1px, 1px, 1px, 1px);height: 1px;margin: -1px;overflow: hidden;padding: 0;position: absolute;width: 1px;}#sk-container-id-10 div.sk-estimator {font-family: monospace;background-color: #f0f8ff;border: 1px dotted black;border-radius: 0.25em;box-sizing: border-box;margin-bottom: 0.5em;}#sk-container-id-10 div.sk-estimator:hover {background-color: #d4ebff;}#sk-container-id-10 div.sk-parallel-item::after {content: \"\";width: 100%;border-bottom: 1px solid gray;flex-grow: 1;}#sk-container-id-10 div.sk-label:hover label.sk-toggleable__label {background-color: #d4ebff;}#sk-container-id-10 div.sk-serial::before {content: \"\";position: absolute;border-left: 1px solid gray;box-sizing: border-box;top: 0;bottom: 0;left: 50%;z-index: 0;}#sk-container-id-10 div.sk-serial {display: flex;flex-direction: column;align-items: center;background-color: white;padding-right: 0.2em;padding-left: 0.2em;position: relative;}#sk-container-id-10 div.sk-item {position: relative;z-index: 1;}#sk-container-id-10 div.sk-parallel {display: flex;align-items: stretch;justify-content: center;background-color: white;position: relative;}#sk-container-id-10 div.sk-item::before, #sk-container-id-10 div.sk-parallel-item::before {content: \"\";position: absolute;border-left: 1px solid gray;box-sizing: border-box;top: 0;bottom: 0;left: 50%;z-index: -1;}#sk-container-id-10 div.sk-parallel-item {display: flex;flex-direction: column;z-index: 1;position: relative;background-color: white;}#sk-container-id-10 div.sk-parallel-item:first-child::after {align-self: flex-end;width: 50%;}#sk-container-id-10 div.sk-parallel-item:last-child::after {align-self: flex-start;width: 50%;}#sk-container-id-10 div.sk-parallel-item:only-child::after {width: 0;}#sk-container-id-10 div.sk-dashed-wrapped {border: 1px dashed gray;margin: 0 0.4em 0.5em 0.4em;box-sizing: border-box;padding-bottom: 0.4em;background-color: white;}#sk-container-id-10 div.sk-label label {font-family: monospace;font-weight: bold;display: inline-block;line-height: 1.2em;}#sk-container-id-10 div.sk-label-container {text-align: center;}#sk-container-id-10 div.sk-container {/* jupyter's `normalize.less` sets `[hidden] { display: none; }` but bootstrap.min.css set `[hidden] { display: none !important; }` so we also need the `!important` here to be able to override the default hidden behavior on the sphinx rendered scikit-learn.org. See: https://github.com/scikit-learn/scikit-learn/issues/21755 */display: inline-block !important;position: relative;}#sk-container-id-10 div.sk-text-repr-fallback {display: none;}</style><div id=\"sk-container-id-10\" class=\"sk-top-container\"><div class=\"sk-text-repr-fallback\"><pre>LinearRegression()</pre><b>In a Jupyter environment, please rerun this cell to show the HTML representation or trust the notebook. <br />On GitHub, the HTML representation is unable to render, please try loading this page with nbviewer.org.</b></div><div class=\"sk-container\" hidden><div class=\"sk-item\"><div class=\"sk-estimator sk-toggleable\"><input class=\"sk-toggleable__control sk-hidden--visually\" id=\"sk-estimator-id-10\" type=\"checkbox\" checked><label for=\"sk-estimator-id-10\" class=\"sk-toggleable__label sk-toggleable__label-arrow\">LinearRegression</label><div class=\"sk-toggleable__content\"><pre>LinearRegression()</pre></div></div></div></div></div>"
            ]
          },
          "metadata": {},
          "execution_count": 204
        }
      ]
    },
    {
      "cell_type": "code",
      "source": [
        "# Predicting the testing data:\n",
        "Y_pred = regressor.predict(X_test)"
      ],
      "metadata": {
        "id": "ydSUUf_R3wJK"
      },
      "execution_count": 205,
      "outputs": []
    },
    {
      "cell_type": "code",
      "source": [
        "# Visualization of training dataset results:\n",
        "plt.scatter(X_train, Y_train, color = 'blue')\n",
        "plt.plot(X_train, regressor.predict(X_train), color = 'red')\n",
        "plt.title(\"Time of upload(status_published) vs num_reaction\")\n",
        "plt.xlabel('status_published')\n",
        "plt.ylabel(\"num_reaction\")\n",
        "plt.show"
      ],
      "metadata": {
        "colab": {
          "base_uri": "https://localhost:8080/",
          "height": 641
        },
        "id": "0BnIIkWR33ZS",
        "outputId": "28fcae25-86e4-48f4-bd77-c6fd56cec5ed"
      },
      "execution_count": 206,
      "outputs": [
        {
          "output_type": "execute_result",
          "data": {
            "text/plain": [
              "<function matplotlib.pyplot.show(close=None, block=None)>"
            ],
            "text/html": [
              "<div style=\"max-width:800px; border: 1px solid var(--colab-border-color);\"><style>\n",
              "      pre.function-repr-contents {\n",
              "        overflow-x: auto;\n",
              "        padding: 8px 12px;\n",
              "        max-height: 500px;\n",
              "      }\n",
              "\n",
              "      pre.function-repr-contents.function-repr-contents-collapsed {\n",
              "        cursor: pointer;\n",
              "        max-height: 100px;\n",
              "      }\n",
              "    </style>\n",
              "    <pre style=\"white-space: initial; background:\n",
              "         var(--colab-secondary-surface-color); padding: 8px 12px;\n",
              "         border-bottom: 1px solid var(--colab-border-color);\"><b>matplotlib.pyplot.show</b><br/>def show(*args, **kwargs)</pre><pre class=\"function-repr-contents function-repr-contents-collapsed\" style=\"\"><a class=\"filepath\" style=\"display:none\" href=\"#\">/usr/local/lib/python3.10/dist-packages/matplotlib/pyplot.py</a>Display all open figures.\n",
              "\n",
              "Parameters\n",
              "----------\n",
              "block : bool, optional\n",
              "    Whether to wait for all figures to be closed before returning.\n",
              "\n",
              "    If `True` block and run the GUI main loop until all figure windows\n",
              "    are closed.\n",
              "\n",
              "    If `False` ensure that all figure windows are displayed and return\n",
              "    immediately.  In this case, you are responsible for ensuring\n",
              "    that the event loop is running to have responsive figures.\n",
              "\n",
              "    Defaults to True in non-interactive mode and to False in interactive\n",
              "    mode (see `.pyplot.isinteractive`).\n",
              "\n",
              "See Also\n",
              "--------\n",
              "ion : Enable interactive mode, which shows / updates the figure after\n",
              "      every plotting command, so that calling ``show()`` is not necessary.\n",
              "ioff : Disable interactive mode.\n",
              "savefig : Save the figure to an image file instead of showing it on screen.\n",
              "\n",
              "Notes\n",
              "-----\n",
              "**Saving figures to file and showing a window at the same time**\n",
              "\n",
              "If you want an image file as well as a user interface window, use\n",
              "`.pyplot.savefig` before `.pyplot.show`. At the end of (a blocking)\n",
              "``show()`` the figure is closed and thus unregistered from pyplot. Calling\n",
              "`.pyplot.savefig` afterwards would save a new and thus empty figure. This\n",
              "limitation of command order does not apply if the show is non-blocking or\n",
              "if you keep a reference to the figure and use `.Figure.savefig`.\n",
              "\n",
              "**Auto-show in jupyter notebooks**\n",
              "\n",
              "The jupyter backends (activated via ``%matplotlib inline``,\n",
              "``%matplotlib notebook``, or ``%matplotlib widget``), call ``show()`` at\n",
              "the end of every cell by default. Thus, you usually don&#x27;t have to call it\n",
              "explicitly there.</pre>\n",
              "      <script>\n",
              "      if (google.colab.kernel.accessAllowed && google.colab.files && google.colab.files.view) {\n",
              "        for (const element of document.querySelectorAll('.filepath')) {\n",
              "          element.style.display = 'block'\n",
              "          element.onclick = (event) => {\n",
              "            event.preventDefault();\n",
              "            event.stopPropagation();\n",
              "            google.colab.files.view(element.textContent, 401);\n",
              "          };\n",
              "        }\n",
              "      }\n",
              "      for (const element of document.querySelectorAll('.function-repr-contents')) {\n",
              "        element.onclick = (event) => {\n",
              "          event.preventDefault();\n",
              "          event.stopPropagation();\n",
              "          element.classList.toggle('function-repr-contents-collapsed');\n",
              "        };\n",
              "      }\n",
              "      </script>\n",
              "      </div>"
            ]
          },
          "metadata": {},
          "execution_count": 206
        },
        {
          "output_type": "display_data",
          "data": {
            "text/plain": [
              "<Figure size 640x480 with 1 Axes>"
            ],
            "image/png": "[encoded data removed]"
          },
          "metadata": {}
        }
      ]
    },
    {
      "cell_type": "code",
      "source": [
        "# Visualization of testing dataset results:\n",
        "plt.scatter(X_test, Y_test, color = 'blue')\n",
        "plt.plot(X_test, Y_pred, color = 'red')\n",
        "plt.title(\"Time of upload(status_published) vs num_reaction\")\n",
        "plt.xlabel(\"status_published\")\n",
        "plt.ylabel(\"num_reaction\")\n",
        "plt.show()"
      ],
      "metadata": {
        "colab": {
          "base_uri": "https://localhost:8080/",
          "height": 472
        },
        "id": "o-mIZ1dS4EJf",
        "outputId": "f41fb234-a6c3-4f91-e930-b4334946d9f0"
      },
      "execution_count": 207,
      "outputs": [
        {
          "output_type": "display_data",
          "data": {
            "text/plain": [
              "<Figure size 640x480 with 1 Axes>"
            ],
            "image/png": "[encoded data removed]"
          },
          "metadata": {}
        }
      ]
    },
    {
      "cell_type": "markdown",
      "source": [
        "Above graphs tells us how time of upload affects the num_reactions."
      ],
      "metadata": {
        "id": "9XE7Lp1c4Qtw"
      }
    },
    {
      "cell_type": "markdown",
      "source": [
        "\n",
        "\n",
        "---\n",
        "\n"
      ],
      "metadata": {
        "id": "KXiD8K_FBoI1"
      }
    },
    {
      "cell_type": "markdown",
      "source": [
        "2.\tIs there a correlation between the number of reactions (num_reactions) and other engagement metrics such as comments (num_comments) and shares (num_shares)? If so, what is the strength and direction of this correlation?"
      ],
      "metadata": {
        "id": "P_iyhF1h4gWO"
      }
    },
    {
      "cell_type": "code",
      "source": [
        "# Assigning the datasets\n",
        "data1 = fb_dataset.iloc[:,[3]]\n",
        "data2 = fb_dataset.iloc[:,[4]]\n",
        "data3 = fb_dataset.iloc[:,[5]]"
      ],
      "metadata": {
        "id": "YxCG8PeI4MWa"
      },
      "execution_count": 208,
      "outputs": []
    },
    {
      "cell_type": "code",
      "source": [
        "combined_data = pd.concat([data1, data2, data3], axis = 1)"
      ],
      "metadata": {
        "id": "eWQKJGGU4-3s"
      },
      "execution_count": 209,
      "outputs": []
    },
    {
      "cell_type": "code",
      "source": [
        "# Making the correlation matrix between num_reactions, num_comments, and num_shares\n",
        "correlation_matrix = combined_data.corr()"
      ],
      "metadata": {
        "id": "X6r4Ih195FF3"
      },
      "execution_count": 210,
      "outputs": []
    },
    {
      "cell_type": "code",
      "source": [
        "print(correlation_matrix)"
      ],
      "metadata": {
        "colab": {
          "base_uri": "https://localhost:8080/"
        },
        "id": "upCAwhh85RWd",
        "outputId": "65d2e383-ee4c-4c85-9907-93f8aecc5de2"
      },
      "execution_count": 211,
      "outputs": [
        {
          "output_type": "stream",
          "name": "stdout",
          "text": [
            "               num_reactions  num_comments  num_shares\n",
            "num_reactions       1.000000      0.150843    0.250723\n",
            "num_comments        0.150843      1.000000    0.640637\n",
            "num_shares          0.250723      0.640637    1.000000\n"
          ]
        }
      ]
    },
    {
      "cell_type": "markdown",
      "source": [
        "\n",
        "\n",
        "---\n",
        "\n"
      ],
      "metadata": {
        "id": "asZRrx65BqCb"
      }
    },
    {
      "cell_type": "markdown",
      "source": [
        "3.\tUse the columns status_type, num_reactions, num_comments, num_shares, num_likes, num_loves, num_wows, num_hahas, num_sads, and num_angrys to train a K-Means clustering model on the Facebook Live Sellers dataset.\n",
        "4.\tUse the elbow method to find the optimum number of clusters."
      ],
      "metadata": {
        "id": "2E2Kzv8-5tqJ"
      }
    },
    {
      "cell_type": "code",
      "source": [
        "X1 = fb_dataset.iloc[:,:-5].values\n",
        "# As we have added the 'hour of the day' in the dataset, we have to remove extra column from last. Hence, we used -5 instead of -4."
      ],
      "metadata": {
        "id": "PJMQe-zz5URx"
      },
      "execution_count": 212,
      "outputs": []
    },
    {
      "cell_type": "code",
      "source": [
        "# Handling Missing Values:\n",
        "from sklearn.impute import SimpleImputer\n",
        "imputer = SimpleImputer(missing_values= np.nan, strategy='mean')\n",
        "imputer.fit(X1[:,3:])\n",
        "X1[:,3:] = imputer.transform(X1[:,3:])"
      ],
      "metadata": {
        "id": "1RYXEn0b5-ag"
      },
      "execution_count": 213,
      "outputs": []
    },
    {
      "cell_type": "code",
      "source": [
        "# Encoding the status type:\n",
        "from sklearn.compose import ColumnTransformer\n",
        "from sklearn.preprocessing import OneHotEncoder\n",
        "ct = ColumnTransformer(transformers = [('encoder', OneHotEncoder(), [1])], remainder = \"passthrough\")\n",
        "X1 = np.array(ct.fit_transform(X1))"
      ],
      "metadata": {
        "id": "q_qMOgAs6JNO"
      },
      "execution_count": 214,
      "outputs": []
    },
    {
      "cell_type": "markdown",
      "source": [
        "K-means Clustering:"
      ],
      "metadata": {
        "id": "WUHpPNTl8G3w"
      }
    },
    {
      "cell_type": "code",
      "source": [
        "#Importing Libraries\n",
        "from sklearn.cluster import KMeans"
      ],
      "metadata": {
        "id": "Je8UNLNC7YU5"
      },
      "execution_count": 215,
      "outputs": []
    },
    {
      "cell_type": "code",
      "source": [
        "# Dropping the status_published:\n",
        "matrix = np.array(X1)\n",
        "new_matrix = np.delete(matrix, 5, axis = 1)\n",
        "new_dataset = np.delete(new_matrix, 4, axis = 1)"
      ],
      "metadata": {
        "id": "RXUkQ_ru8PHx"
      },
      "execution_count": 216,
      "outputs": []
    },
    {
      "cell_type": "code",
      "source": [
        "# Using Elbow Method, to find optimal numbers of clusters\n",
        "wcss = []\n",
        "for i in range(1,11):\n",
        "  kmeans = KMeans(n_clusters = i, init = \"k-means++\", random_state = 24)\n",
        "  kmeans.fit(new_dataset)\n",
        "  wcss.append(kmeans.inertia_)"
      ],
      "metadata": {
        "colab": {
          "base_uri": "https://localhost:8080/"
        },
        "id": "vzI1mJbh8Wxe",
        "outputId": "20fd6f98-cb6c-4789-d36d-c5f5bed302cc"
      },
      "execution_count": 217,
      "outputs": [
        {
          "output_type": "stream",
          "name": "stderr",
          "text": [
            "/usr/local/lib/python3.10/dist-packages/sklearn/cluster/_kmeans.py:1416: FutureWarning: The default value of `n_init` will change from 10 to 'auto' in 1.4. Set the value of `n_init` explicitly to suppress the warning\n",
            "  super()._check_params_vs_input(X, default_n_init=10)\n",
            "/usr/local/lib/python3.10/dist-packages/sklearn/cluster/_kmeans.py:1416: FutureWarning: The default value of `n_init` will change from 10 to 'auto' in 1.4. Set the value of `n_init` explicitly to suppress the warning\n",
            "  super()._check_params_vs_input(X, default_n_init=10)\n",
            "/usr/local/lib/python3.10/dist-packages/sklearn/cluster/_kmeans.py:1416: FutureWarning: The default value of `n_init` will change from 10 to 'auto' in 1.4. Set the value of `n_init` explicitly to suppress the warning\n",
            "  super()._check_params_vs_input(X, default_n_init=10)\n",
            "/usr/local/lib/python3.10/dist-packages/sklearn/cluster/_kmeans.py:1416: FutureWarning: The default value of `n_init` will change from 10 to 'auto' in 1.4. Set the value of `n_init` explicitly to suppress the warning\n",
            "  super()._check_params_vs_input(X, default_n_init=10)\n",
            "/usr/local/lib/python3.10/dist-packages/sklearn/cluster/_kmeans.py:1416: FutureWarning: The default value of `n_init` will change from 10 to 'auto' in 1.4. Set the value of `n_init` explicitly to suppress the warning\n",
            "  super()._check_params_vs_input(X, default_n_init=10)\n",
            "/usr/local/lib/python3.10/dist-packages/sklearn/cluster/_kmeans.py:1416: FutureWarning: The default value of `n_init` will change from 10 to 'auto' in 1.4. Set the value of `n_init` explicitly to suppress the warning\n",
            "  super()._check_params_vs_input(X, default_n_init=10)\n",
            "/usr/local/lib/python3.10/dist-packages/sklearn/cluster/_kmeans.py:1416: FutureWarning: The default value of `n_init` will change from 10 to 'auto' in 1.4. Set the value of `n_init` explicitly to suppress the warning\n",
            "  super()._check_params_vs_input(X, default_n_init=10)\n",
            "/usr/local/lib/python3.10/dist-packages/sklearn/cluster/_kmeans.py:1416: FutureWarning: The default value of `n_init` will change from 10 to 'auto' in 1.4. Set the value of `n_init` explicitly to suppress the warning\n",
            "  super()._check_params_vs_input(X, default_n_init=10)\n",
            "/usr/local/lib/python3.10/dist-packages/sklearn/cluster/_kmeans.py:1416: FutureWarning: The default value of `n_init` will change from 10 to 'auto' in 1.4. Set the value of `n_init` explicitly to suppress the warning\n",
            "  super()._check_params_vs_input(X, default_n_init=10)\n",
            "/usr/local/lib/python3.10/dist-packages/sklearn/cluster/_kmeans.py:1416: FutureWarning: The default value of `n_init` will change from 10 to 'auto' in 1.4. Set the value of `n_init` explicitly to suppress the warning\n",
            "  super()._check_params_vs_input(X, default_n_init=10)\n"
          ]
        }
      ]
    },
    {
      "cell_type": "code",
      "source": [
        "# Plotting the curve between curve and no. of clusters\n",
        "plt.plot(range(1,11), wcss)\n",
        "plt.title(\"The Elbow Method\")\n",
        "plt.xlabel(\"no. of clusters\")\n",
        "plt.ylabel(\"wcss\")\n",
        "plt.show()"
      ],
      "metadata": {
        "colab": {
          "base_uri": "https://localhost:8080/",
          "height": 472
        },
        "id": "F4N8NjqF9AEv",
        "outputId": "58e31a14-c7a5-4491-8af3-b607ad5933cb"
      },
      "execution_count": 218,
      "outputs": [
        {
          "output_type": "display_data",
          "data": {
            "text/plain": [
              "<Figure size 640x480 with 1 Axes>"
            ],
            "image/png": "[encoded data removed]"
          },
          "metadata": {}
        }
      ]
    },
    {
      "cell_type": "markdown",
      "source": [
        "So, the kink or elbow you find in the above curve is at 3 no. of clusters, which will be our optimal no. of clusters."
      ],
      "metadata": {
        "id": "xzQPRobv9Ro8"
      }
    },
    {
      "cell_type": "code",
      "source": [
        "# Training the K-Means clustering model on our new dataset\n",
        "'''New dataset includes status_type, num_reactions, num_comments, num_shares, num_likes, num_loves, num_wows, num_hahas, num_sads, and num_angry.'''\n",
        "kmeans = KMeans(n_clusters = 3, init = \"k-means++\", random_state = 24)\n",
        "y_means = kmeans.fit_predict(new_dataset)"
      ],
      "metadata": {
        "colab": {
          "base_uri": "https://localhost:8080/"
        },
        "id": "JX5fa3qV9Mfs",
        "outputId": "3505a2d5-dc0d-4c9b-f04b-a0caefa6dd27"
      },
      "execution_count": 219,
      "outputs": [
        {
          "output_type": "stream",
          "name": "stderr",
          "text": [
            "/usr/local/lib/python3.10/dist-packages/sklearn/cluster/_kmeans.py:1416: FutureWarning: The default value of `n_init` will change from 10 to 'auto' in 1.4. Set the value of `n_init` explicitly to suppress the warning\n",
            "  super()._check_params_vs_input(X, default_n_init=10)\n"
          ]
        }
      ]
    },
    {
      "cell_type": "markdown",
      "source": [
        "\n",
        "\n",
        "---\n",
        "\n"
      ],
      "metadata": {
        "id": "yiQ7m93vBsiG"
      }
    },
    {
      "cell_type": "markdown",
      "source": [
        "5.\tWhat is the count of different types of posts in the dataset?"
      ],
      "metadata": {
        "id": "pUDXyj3G-Dxz"
      }
    },
    {
      "cell_type": "code",
      "source": [
        "X2 = fb_dataset.iloc[:,[1]].values\n",
        "df = pd.DataFrame(X2, columns = ['status_type'])"
      ],
      "metadata": {
        "id": "Uzh8hefC9nG5"
      },
      "execution_count": 220,
      "outputs": []
    },
    {
      "cell_type": "code",
      "source": [
        "# Using value_counts function to find the numbers of different types of posts in our facebook dataset\n",
        "counts = df['status_type'].value_counts()"
      ],
      "metadata": {
        "id": "sNsYP-gb-Kgm"
      },
      "execution_count": 221,
      "outputs": []
    },
    {
      "cell_type": "code",
      "source": [
        "print(counts)"
      ],
      "metadata": {
        "colab": {
          "base_uri": "https://localhost:8080/"
        },
        "id": "fMFeAAqt-eSo",
        "outputId": "6f312f73-1ec8-4d26-ea4e-38cb6a786c2a"
      },
      "execution_count": 222,
      "outputs": [
        {
          "output_type": "stream",
          "name": "stdout",
          "text": [
            "status_type\n",
            "photo     4288\n",
            "video     2334\n",
            "status     365\n",
            "link        63\n",
            "Name: count, dtype: int64\n"
          ]
        }
      ]
    },
    {
      "cell_type": "markdown",
      "source": [
        "\n",
        "\n",
        "---\n",
        "\n"
      ],
      "metadata": {
        "id": "Q28JYGa9Btg0"
      }
    },
    {
      "cell_type": "markdown",
      "source": [
        "6.\tWhat is the average value of num_reaction, num_comments, num_shares for each post type?"
      ],
      "metadata": {
        "id": "tAwW7dYOA1jx"
      }
    },
    {
      "cell_type": "code",
      "source": [
        "Z1 = fb_dataset.iloc[:, [3]]\n",
        "Z2 = fb_dataset.iloc[:, [4]]\n",
        "Z3 = fb_dataset.iloc[:, [5]]"
      ],
      "metadata": {
        "id": "zCgAQJ9N-gFu"
      },
      "execution_count": 223,
      "outputs": []
    },
    {
      "cell_type": "code",
      "source": [
        "# Converting into lists:\n",
        "list1 = Z1['num_reactions'].tolist()\n",
        "list2 = Z2['num_comments'].tolist()\n",
        "list3 = Z3['num_shares'].tolist()"
      ],
      "metadata": {
        "id": "c2aQdNQgBG6m"
      },
      "execution_count": 224,
      "outputs": []
    },
    {
      "cell_type": "code",
      "source": [
        "# Calculating averages\n",
        "avg_num_reactions = np.mean(list1)\n",
        "avg_num_comments = np.mean(list2)\n",
        "avg_num_shares = np.mean(list3)"
      ],
      "metadata": {
        "id": "aiC0tpYEBPj9"
      },
      "execution_count": 225,
      "outputs": []
    },
    {
      "cell_type": "code",
      "source": [
        "print(\"The mean of the num_reactions for each posts is\", avg_num_reactions)\n",
        "print(\"The mean of the num_comments for each posts is\", avg_num_comments)\n",
        "print(\"The mean of the num_shares for each posts is\", avg_num_shares)"
      ],
      "metadata": {
        "colab": {
          "base_uri": "https://localhost:8080/"
        },
        "id": "yMNQGIFPBSFr",
        "outputId": "0aa7eaf2-a0f6-4b6a-b65c-090b16ad21b4"
      },
      "execution_count": 226,
      "outputs": [
        {
          "output_type": "stream",
          "name": "stdout",
          "text": [
            "The mean of the num_reactions for each posts is 230.11716312056737\n",
            "The mean of the num_comments for each posts is 224.3560283687943\n",
            "The mean of the num_shares for each posts is 40.022553191489365\n"
          ]
        }
      ]
    },
    {
      "cell_type": "markdown",
      "source": [
        "\n",
        "\n",
        "---\n",
        "\n",
        "\n",
        "\n",
        "---\n",
        "\n"
      ],
      "metadata": {
        "id": "Zy6vTOWGB0cA"
      }
    },
    {
      "cell_type": "markdown",
      "source": [
        "# 2. Sales Prediction Dataset:"
      ],
      "metadata": {
        "id": "H5sPazwlB2KL"
      }
    },
    {
      "cell_type": "markdown",
      "source": [
        "Here is a brief description of dataset. The features given to us for the sales dataset are: Campaign, TV, Radio, Newspaper and Sales.\n",
        "\n",
        "What we have to do:\n",
        "1.\tWhat is the average amount spent on TV advertising in the dataset?\n",
        "2.\tWhat is the correlation between radio advertising expenditure and product sales?\n",
        "3.\tWhich advertising medium has the highest impact on sales based on the dataset?\n",
        "4.\tPlot a linear regression line that includes all variables (TV, Radio, Newspaper) to predict Sales, and visualize the model's predictions against the actual sales values.\n",
        "5.\tHow would sales be predicted for a new set of advertising expenditures: $200 on TV, $40 on Radio, and $50 on Newspaper?\n",
        "6.\tHow does the performance of the linear regression model change when the dataset is normalized?\n",
        "7.\tWhat is the impact on the sales prediction when only radio and newspaper advertising expenditures are used as predictors?\n"
      ],
      "metadata": {
        "id": "bjd958QbCB1U"
      }
    },
    {
      "cell_type": "markdown",
      "source": [
        "\n",
        "\n",
        "---\n",
        "\n"
      ],
      "metadata": {
        "id": "MjvX7GsyClnZ"
      }
    },
    {
      "cell_type": "markdown",
      "source": [
        "1.\tWhat is the average amount spent on TV advertising in the dataset?"
      ],
      "metadata": {
        "id": "lYNYXA_nCh4n"
      }
    },
    {
      "cell_type": "code",
      "source": [
        "sales_dataset = pd.read_excel(\"advertising_sales_data.xlsx\")"
      ],
      "metadata": {
        "id": "3lwieheJCgKB"
      },
      "execution_count": 227,
      "outputs": []
    },
    {
      "cell_type": "code",
      "source": [
        "A = sales_dataset.iloc[:,[1]]\n",
        "list1 = A[\"TV\"].tolist() # converting to list to calculate average\n",
        "avg_TV = np.mean(list1)"
      ],
      "metadata": {
        "id": "9Cl2_We_C9dF"
      },
      "execution_count": 228,
      "outputs": []
    },
    {
      "cell_type": "code",
      "source": [
        "print(\"The average amount of money spent on TV advertisement is\", avg_TV)"
      ],
      "metadata": {
        "colab": {
          "base_uri": "https://localhost:8080/"
        },
        "id": "eLbsSnjUDDZT",
        "outputId": "6ae21a75-9933-47fb-810f-ac770bc40380"
      },
      "execution_count": 229,
      "outputs": [
        {
          "output_type": "stream",
          "name": "stdout",
          "text": [
            "The average amount of money spent on TV advertisement is 147.0425\n"
          ]
        }
      ]
    },
    {
      "cell_type": "markdown",
      "source": [
        "\n",
        "\n",
        "---\n",
        "\n"
      ],
      "metadata": {
        "id": "bfwBqyu9Dacz"
      }
    },
    {
      "cell_type": "markdown",
      "source": [
        "2.\tWhat is the correlation between radio advertising expenditure and product sales?"
      ],
      "metadata": {
        "id": "frH2MJXFDbuK"
      }
    },
    {
      "cell_type": "code",
      "source": [
        "s_data1 = sales_dataset.iloc[:,[2]]\n",
        "s_data2 = sales_dataset.iloc[:,[4]]"
      ],
      "metadata": {
        "id": "EVsETv7sDPF9"
      },
      "execution_count": 230,
      "outputs": []
    },
    {
      "cell_type": "code",
      "source": [
        "s_combined_data = pd.concat([s_data1, s_data2], axis = 1)\n",
        "s_correlation_matrix = s_combined_data.corr() # Calculating correlation using corr() function"
      ],
      "metadata": {
        "id": "lk_prvWiDjUW"
      },
      "execution_count": 231,
      "outputs": []
    },
    {
      "cell_type": "code",
      "source": [
        "print(s_correlation_matrix)"
      ],
      "metadata": {
        "colab": {
          "base_uri": "https://localhost:8080/"
        },
        "id": "HRg2BEamDnnM",
        "outputId": "923ee65a-2231-49e1-b0b2-30d0fd9109c4"
      },
      "execution_count": 232,
      "outputs": [
        {
          "output_type": "stream",
          "name": "stdout",
          "text": [
            "          Radio     Sales\n",
            "Radio  1.000000  0.349728\n",
            "Sales  0.349728  1.000000\n"
          ]
        }
      ]
    },
    {
      "cell_type": "markdown",
      "source": [
        "\n",
        "\n",
        "---\n",
        "\n"
      ],
      "metadata": {
        "id": "s_L1PEosEUV0"
      }
    },
    {
      "cell_type": "markdown",
      "source": [
        "3.\tWhich advertising medium has the highest impact on sales based on the dataset?"
      ],
      "metadata": {
        "id": "6eEGS6GHEVXJ"
      }
    },
    {
      "cell_type": "code",
      "source": [
        "sale = sales_dataset.iloc[:,[4]]\n",
        "TV = sales_dataset.iloc[:,[1]]\n",
        "radio = sales_dataset.iloc[:,[2]]\n",
        "newspaper = sales_dataset.iloc[:,[3]]"
      ],
      "metadata": {
        "id": "7ymty6ytECZ7"
      },
      "execution_count": 233,
      "outputs": []
    },
    {
      "cell_type": "code",
      "source": [
        "sales_combined_data = pd.concat([sale, TV, radio, newspaper], axis = 1)\n",
        "sales_correlation_matrix = sales_combined_data.corr()"
      ],
      "metadata": {
        "id": "n95MFTDWEbBf"
      },
      "execution_count": 234,
      "outputs": []
    },
    {
      "cell_type": "code",
      "source": [
        "print(sales_correlation_matrix)"
      ],
      "metadata": {
        "colab": {
          "base_uri": "https://localhost:8080/"
        },
        "id": "l3WlcTJsEgh4",
        "outputId": "e26170fa-37e2-4180-cf78-fba0be2e0530"
      },
      "execution_count": 235,
      "outputs": [
        {
          "output_type": "stream",
          "name": "stdout",
          "text": [
            "              Sales        TV     Radio  Newspaper\n",
            "Sales      1.000000  0.901208  0.349728   0.157960\n",
            "TV         0.901208  1.000000  0.054848   0.056648\n",
            "Radio      0.349728  0.054848  1.000000   0.354987\n",
            "Newspaper  0.157960  0.056648  0.354987   1.000000\n"
          ]
        }
      ]
    },
    {
      "cell_type": "markdown",
      "source": [
        "This result shows the highest value of correlation with sales is TV. Hence, TV has the highest impact on sales based on our dataset."
      ],
      "metadata": {
        "id": "NpQcIydREv5I"
      }
    },
    {
      "cell_type": "markdown",
      "source": [
        "\n",
        "\n",
        "---\n",
        "\n"
      ],
      "metadata": {
        "id": "JdIe1aqzE94y"
      }
    },
    {
      "cell_type": "markdown",
      "source": [
        "4.\tPlot a linear regression line that includes all variables (TV, Radio, Newspaper) to predict Sales, and visualize the model's predictions against the actual sales values."
      ],
      "metadata": {
        "id": "XxJrC460E-xB"
      }
    },
    {
      "cell_type": "code",
      "source": [
        "features = sales_dataset.iloc[:,1:4].values\n",
        "sales = sales_dataset.iloc[:,[4]].values"
      ],
      "metadata": {
        "id": "Fei1JQONErtI"
      },
      "execution_count": 236,
      "outputs": []
    },
    {
      "cell_type": "code",
      "source": [
        "# Handling Missing Values:\n",
        "from sklearn.impute import SimpleImputer\n",
        "imputer = SimpleImputer(missing_values = np.nan, strategy = 'mean')\n",
        "imputer.fit(features[:,:])\n",
        "features[:,:] = imputer.transform(features[:,:])"
      ],
      "metadata": {
        "id": "K0MWPOrlFGyU"
      },
      "execution_count": 237,
      "outputs": []
    },
    {
      "cell_type": "code",
      "source": [
        "# Splitting training and testing datasets:\n",
        "from sklearn.model_selection import train_test_split\n",
        "features_train, features_test, sales_train, sales_test = train_test_split(features, sales, test_size = 0.2, random_state = 1)"
      ],
      "metadata": {
        "id": "_JWchGWHFQRX"
      },
      "execution_count": 238,
      "outputs": []
    },
    {
      "cell_type": "code",
      "source": [
        "# Linear Regression:\n",
        "from sklearn.linear_model import LinearRegression\n",
        "model = LinearRegression()\n",
        "model.fit(features_train, sales_train)"
      ],
      "metadata": {
        "colab": {
          "base_uri": "https://localhost:8080/",
          "height": 74
        },
        "id": "_rPCva21FWOU",
        "outputId": "3f6cf9a8-e24d-413c-9b1f-be14e5beb22a"
      },
      "execution_count": 239,
      "outputs": [
        {
          "output_type": "execute_result",
          "data": {
            "text/plain": [
              "LinearRegression()"
            ],
            "text/html": [
              "<style>#sk-container-id-11 {color: black;}#sk-container-id-11 pre{padding: 0;}#sk-container-id-11 div.sk-toggleable {background-color: white;}#sk-container-id-11 label.sk-toggleable__label {cursor: pointer;display: block;width: 100%;margin-bottom: 0;padding: 0.3em;box-sizing: border-box;text-align: center;}#sk-container-id-11 label.sk-toggleable__label-arrow:before {content: \"▸\";float: left;margin-right: 0.25em;color: #696969;}#sk-container-id-11 label.sk-toggleable__label-arrow:hover:before {color: black;}#sk-container-id-11 div.sk-estimator:hover label.sk-toggleable__label-arrow:before {color: black;}#sk-container-id-11 div.sk-toggleable__content {max-height: 0;max-width: 0;overflow: hidden;text-align: left;background-color: #f0f8ff;}#sk-container-id-11 div.sk-toggleable__content pre {margin: 0.2em;color: black;border-radius: 0.25em;background-color: #f0f8ff;}#sk-container-id-11 input.sk-toggleable__control:checked~div.sk-toggleable__content {max-height: 200px;max-width: 100%;overflow: auto;}#sk-container-id-11 input.sk-toggleable__control:checked~label.sk-toggleable__label-arrow:before {content: \"▾\";}#sk-container-id-11 div.sk-estimator input.sk-toggleable__control:checked~label.sk-toggleable__label {background-color: #d4ebff;}#sk-container-id-11 div.sk-label input.sk-toggleable__control:checked~label.sk-toggleable__label {background-color: #d4ebff;}#sk-container-id-11 input.sk-hidden--visually {border: 0;clip: rect(1px 1px 1px 1px);clip: rect(1px, 1px, 1px, 1px);height: 1px;margin: -1px;overflow: hidden;padding: 0;position: absolute;width: 1px;}#sk-container-id-11 div.sk-estimator {font-family: monospace;background-color: #f0f8ff;border: 1px dotted black;border-radius: 0.25em;box-sizing: border-box;margin-bottom: 0.5em;}#sk-container-id-11 div.sk-estimator:hover {background-color: #d4ebff;}#sk-container-id-11 div.sk-parallel-item::after {content: \"\";width: 100%;border-bottom: 1px solid gray;flex-grow: 1;}#sk-container-id-11 div.sk-label:hover label.sk-toggleable__label {background-color: #d4ebff;}#sk-container-id-11 div.sk-serial::before {content: \"\";position: absolute;border-left: 1px solid gray;box-sizing: border-box;top: 0;bottom: 0;left: 50%;z-index: 0;}#sk-container-id-11 div.sk-serial {display: flex;flex-direction: column;align-items: center;background-color: white;padding-right: 0.2em;padding-left: 0.2em;position: relative;}#sk-container-id-11 div.sk-item {position: relative;z-index: 1;}#sk-container-id-11 div.sk-parallel {display: flex;align-items: stretch;justify-content: center;background-color: white;position: relative;}#sk-container-id-11 div.sk-item::before, #sk-container-id-11 div.sk-parallel-item::before {content: \"\";position: absolute;border-left: 1px solid gray;box-sizing: border-box;top: 0;bottom: 0;left: 50%;z-index: -1;}#sk-container-id-11 div.sk-parallel-item {display: flex;flex-direction: column;z-index: 1;position: relative;background-color: white;}#sk-container-id-11 div.sk-parallel-item:first-child::after {align-self: flex-end;width: 50%;}#sk-container-id-11 div.sk-parallel-item:last-child::after {align-self: flex-start;width: 50%;}#sk-container-id-11 div.sk-parallel-item:only-child::after {width: 0;}#sk-container-id-11 div.sk-dashed-wrapped {border: 1px dashed gray;margin: 0 0.4em 0.5em 0.4em;box-sizing: border-box;padding-bottom: 0.4em;background-color: white;}#sk-container-id-11 div.sk-label label {font-family: monospace;font-weight: bold;display: inline-block;line-height: 1.2em;}#sk-container-id-11 div.sk-label-container {text-align: center;}#sk-container-id-11 div.sk-container {/* jupyter's `normalize.less` sets `[hidden] { display: none; }` but bootstrap.min.css set `[hidden] { display: none !important; }` so we also need the `!important` here to be able to override the default hidden behavior on the sphinx rendered scikit-learn.org. See: https://github.com/scikit-learn/scikit-learn/issues/21755 */display: inline-block !important;position: relative;}#sk-container-id-11 div.sk-text-repr-fallback {display: none;}</style><div id=\"sk-container-id-11\" class=\"sk-top-container\"><div class=\"sk-text-repr-fallback\"><pre>LinearRegression()</pre><b>In a Jupyter environment, please rerun this cell to show the HTML representation or trust the notebook. <br />On GitHub, the HTML representation is unable to render, please try loading this page with nbviewer.org.</b></div><div class=\"sk-container\" hidden><div class=\"sk-item\"><div class=\"sk-estimator sk-toggleable\"><input class=\"sk-toggleable__control sk-hidden--visually\" id=\"sk-estimator-id-11\" type=\"checkbox\" checked><label for=\"sk-estimator-id-11\" class=\"sk-toggleable__label sk-toggleable__label-arrow\">LinearRegression</label><div class=\"sk-toggleable__content\"><pre>LinearRegression()</pre></div></div></div></div></div>"
            ]
          },
          "metadata": {},
          "execution_count": 239
        }
      ]
    },
    {
      "cell_type": "code",
      "source": [
        "sales_pred = model.predict(features_test)"
      ],
      "metadata": {
        "id": "R5B-uBs0Fcf3"
      },
      "execution_count": 240,
      "outputs": []
    },
    {
      "cell_type": "code",
      "source": [
        "print(sales_pred)"
      ],
      "metadata": {
        "colab": {
          "base_uri": "https://localhost:8080/"
        },
        "id": "ZWYzC_7wG4uR",
        "outputId": "7e87d7c1-8619-4caf-cc10-114d2c5dffaa"
      },
      "execution_count": 241,
      "outputs": [
        {
          "output_type": "stream",
          "name": "stdout",
          "text": [
            "[[21.32817683]\n",
            " [18.06180021]\n",
            " [10.04664349]\n",
            " [21.09291297]\n",
            " [20.7857225 ]\n",
            " [24.52814001]\n",
            " [16.84202557]\n",
            " [15.65622956]\n",
            " [10.13883574]\n",
            " [18.88247347]\n",
            " [15.80992745]\n",
            " [10.54637819]\n",
            " [18.93440442]\n",
            " [15.56700526]\n",
            " [17.86845757]\n",
            " [15.29335551]\n",
            " [13.75732381]\n",
            " [21.06445272]\n",
            " [10.06067804]\n",
            " [19.27630776]\n",
            " [11.15448483]\n",
            " [12.04137014]\n",
            " [ 8.6305774 ]\n",
            " [11.98700335]\n",
            " [12.61505414]\n",
            " [16.85764693]\n",
            " [ 9.73264239]\n",
            " [21.11487099]\n",
            " [18.15240945]\n",
            " [19.56336863]\n",
            " [22.11345145]\n",
            " [17.82673207]\n",
            " [16.54846588]\n",
            " [14.7843838 ]\n",
            " [21.41486005]\n",
            " [16.96718798]\n",
            " [17.22614695]\n",
            " [12.32421332]\n",
            " [21.08058769]\n",
            " [ 7.77440476]]\n"
          ]
        }
      ]
    },
    {
      "cell_type": "code",
      "source": [
        "# Visualization of our predictions:\n",
        "plt.scatter(sales_test, sales_pred)\n",
        "plt.xlabel(\"Actual Sales\")\n",
        "plt.ylabel(\"Predicted Sales\")\n",
        "plt.title(\"Predicted Sales vs Actual Sales\")\n",
        "plt.plot([min(sales_test), max(sales_test)], [min(sales_test), max(sales_test)], color=\"red\")  # Ideal 45-degree line\n",
        "plt.show()"
      ],
      "metadata": {
        "colab": {
          "base_uri": "https://localhost:8080/",
          "height": 472
        },
        "id": "Eb2VqnImFev2",
        "outputId": "b2162081-7d83-4ca6-f4a8-2faf6d28150c"
      },
      "execution_count": 242,
      "outputs": [
        {
          "output_type": "display_data",
          "data": {
            "text/plain": [
              "<Figure size 640x480 with 1 Axes>"
            ],
            "image/png": "[encoded data removed]"
          },
          "metadata": {}
        }
      ]
    },
    {
      "cell_type": "code",
      "source": [],
      "metadata": {
        "id": "auTyvVfeVWTk"
      },
      "execution_count": 242,
      "outputs": []
    },
    {
      "cell_type": "markdown",
      "source": [
        "\n",
        "\n",
        "---\n",
        "\n"
      ],
      "metadata": {
        "id": "QCJxx2EiFtoG"
      }
    },
    {
      "cell_type": "markdown",
      "source": [
        "5.\tHow would sales be predicted for a new set of advertising expenditures: $200 on TV, $40 on Radio, and $50 on Newspaper?"
      ],
      "metadata": {
        "id": "EDwkBwMdFumS"
      }
    },
    {
      "cell_type": "code",
      "source": [
        "new_data = [[200, 40, 50]]"
      ],
      "metadata": {
        "id": "OcY-qT6fFm07"
      },
      "execution_count": 243,
      "outputs": []
    },
    {
      "cell_type": "code",
      "source": [
        "sales_prediction = model.predict(new_data)\n",
        "print('The predicted value of sales by our Linear Regression model on the given data is', sales_prediction[0][0])"
      ],
      "metadata": {
        "colab": {
          "base_uri": "https://localhost:8080/"
        },
        "id": "wLgACJSPFyWu",
        "outputId": "43201504-ad23-42a4-ab72-d2b9ad8438e5"
      },
      "execution_count": 244,
      "outputs": [
        {
          "output_type": "stream",
          "name": "stdout",
          "text": [
            "The predicted value of sales by our Linear Regression model on the given data is 19.732193695644185\n"
          ]
        }
      ]
    },
    {
      "cell_type": "markdown",
      "source": [
        "\n",
        "\n",
        "---\n",
        "\n"
      ],
      "metadata": {
        "id": "luBGsnQVGFh7"
      }
    },
    {
      "cell_type": "markdown",
      "source": [
        "7.\tWhat is the impact on the sales prediction when only radio and newspaper advertising expenditures are used as predictors?"
      ],
      "metadata": {
        "id": "ZUjqCYfKGG0_"
      }
    },
    {
      "cell_type": "code",
      "source": [
        "new_features_test = features_test[:,:-1]\n",
        "new_features_test = np.hstack((new_features_test, np.zeros((new_features_test.shape[0],1))))"
      ],
      "metadata": {
        "id": "YUpkrZLiF2Me"
      },
      "execution_count": 245,
      "outputs": []
    },
    {
      "cell_type": "code",
      "source": [
        "print(new_features_test)"
      ],
      "metadata": {
        "colab": {
          "base_uri": "https://localhost:8080/"
        },
        "id": "UThodQJFGTPH",
        "outputId": "1940699b-9ef6-49a9-9f1a-86f7187a250f"
      },
      "execution_count": 246,
      "outputs": [
        {
          "output_type": "stream",
          "name": "stdout",
          "text": [
            "[[210.8  49.6   0. ]\n",
            " [202.5  22.3   0. ]\n",
            " [ 95.7   1.4   0. ]\n",
            " [280.2  10.1   0. ]\n",
            " [253.8  21.3   0. ]\n",
            " [283.6  42.    0. ]\n",
            " [163.3  31.6   0. ]\n",
            " [180.8  10.8   0. ]\n",
            " [ 70.6  16.    0. ]\n",
            " [215.4  23.6   0. ]\n",
            " [164.5  20.9   0. ]\n",
            " [ 69.2  20.5   0. ]\n",
            " [214.7  24.    0. ]\n",
            " [109.8  47.8   0. ]\n",
            " [225.8   8.2   0. ]\n",
            " [125.7  36.9   0. ]\n",
            " [131.7  18.4   0. ]\n",
            " [290.7   4.1   0. ]\n",
            " [ 25.6  39.    0. ]\n",
            " [210.7  29.5   0. ]\n",
            " [100.4   9.6   0. ]\n",
            " [ 67.8  36.6   0. ]\n",
            " [ 25.1  25.7   0. ]\n",
            " [107.4  14.    0. ]\n",
            " [112.9  17.4   0. ]\n",
            " [188.4  18.1   0. ]\n",
            " [ 43.1  26.7   0. ]\n",
            " [248.8  27.1   0. ]\n",
            " [166.8  42.    0. ]\n",
            " [240.1  16.7   0. ]\n",
            " [239.9  41.5   0. ]\n",
            " [234.5   3.4   0. ]\n",
            " [149.7  35.6   0. ]\n",
            " [170.2   7.8   0. ]\n",
            " [248.4  30.2   0. ]\n",
            " [184.9  21.    0. ]\n",
            " [222.4   3.4   0. ]\n",
            " [129.4   5.7   0. ]\n",
            " [216.8  43.9   0. ]\n",
            " [ 19.6  20.1   0. ]]\n"
          ]
        }
      ]
    },
    {
      "cell_type": "code",
      "source": [
        "new_sales_pred = model.predict(new_features_test)"
      ],
      "metadata": {
        "id": "PVurljU4GYIG"
      },
      "execution_count": 247,
      "outputs": []
    },
    {
      "cell_type": "code",
      "source": [
        "print(new_sales_pred)"
      ],
      "metadata": {
        "colab": {
          "base_uri": "https://localhost:8080/"
        },
        "id": "7Ioy-OoLGbFL",
        "outputId": "c639ee81-7ad4-4ad4-8ed6-e354dbc177dc"
      },
      "execution_count": 248,
      "outputs": [
        {
          "output_type": "stream",
          "name": "stdout",
          "text": [
            "[[21.36281265]\n",
            " [18.09083182]\n",
            " [10.05344203]\n",
            " [21.11257363]\n",
            " [20.81328416]\n",
            " [24.58895941]\n",
            " [16.89062597]\n",
            " [15.70988293]\n",
            " [10.1763196 ]\n",
            " [18.93539186]\n",
            " [15.85347487]\n",
            " [10.5631908 ]\n",
            " [18.93807931]\n",
            " [15.61422758]\n",
            " [17.92036537]\n",
            " [15.36611829]\n",
            " [13.78911159]\n",
            " [21.07226186]\n",
            " [10.06922216]\n",
            " [19.28485187]\n",
            " [11.15779223]\n",
            " [12.14610445]\n",
            " [ 8.67035806]\n",
            " [11.99701742]\n",
            " [12.65051681]\n",
            " [16.88116622]\n",
            " [ 9.76488954]\n",
            " [21.13590973]\n",
            " [18.15571685]\n",
            " [19.58440736]\n",
            " [22.13044781]\n",
            " [17.9046397 ]\n",
            " [16.55397821]\n",
            " [14.81672281]\n",
            " [21.43351011]\n",
            " [16.98739987]\n",
            " [17.2381822 ]\n",
            " [12.35296932]\n",
            " [21.10557693]\n",
            " [ 7.79002304]]\n"
          ]
        }
      ]
    },
    {
      "cell_type": "markdown",
      "source": [
        "You can compare the sales_pred (printed in question 4), and the above printed new_sales_pred. There is very slightly difference present, but it is present which tells us that TV advertisement gives very less impact on sales."
      ],
      "metadata": {
        "id": "nBaZRdOYG_pt"
      }
    },
    {
      "cell_type": "code",
      "source": [
        "# Visualization of comparison:\n",
        "plt.scatter(sales_test, new_sales_pred)\n",
        "plt.plot([min(sales_test), max(sales_test)], [min(sales_test), max(sales_test)], color=\"red\")  # Ideal 45-degree line\n",
        "plt.title(\"Comparison between Prediction Sales(after removing TV advertisement) and Actual Sales\")\n",
        "plt.xlabel(\"Predicted Sales after removing TV advertisement\")\n",
        "plt.ylabel(\"Actual Sales\")\n",
        "plt.show()"
      ],
      "metadata": {
        "colab": {
          "base_uri": "https://localhost:8080/",
          "height": 472
        },
        "id": "xFRKhNSSGfZe",
        "outputId": "f12e52e9-c284-45f8-ff30-c455c82d3e3e"
      },
      "execution_count": 249,
      "outputs": [
        {
          "output_type": "display_data",
          "data": {
            "text/plain": [
              "<Figure size 640x480 with 1 Axes>"
            ],
            "image/png": "[encoded data removed]"
          },
          "metadata": {}
        }
      ]
    },
    {
      "cell_type": "markdown",
      "source": [
        "\n",
        "\n",
        "---\n",
        "\n"
      ],
      "metadata": {
        "id": "0fzlugeVHufd"
      }
    },
    {
      "cell_type": "markdown",
      "source": [
        "6.\tHow does the performance of the linear regression model change when the dataset is normalized?"
      ],
      "metadata": {
        "id": "pYWvLKdyHvkI"
      }
    },
    {
      "cell_type": "code",
      "source": [
        "features_n = sales_dataset.iloc[:,1:4].values\n",
        "sales_n = sales_dataset.iloc[:,[4]]"
      ],
      "metadata": {
        "id": "l_Mp2HewTzNQ"
      },
      "execution_count": 250,
      "outputs": []
    },
    {
      "cell_type": "code",
      "source": [
        "# Handling Missing datas:\n",
        "from sklearn.impute import SimpleImputer\n",
        "imputer = SimpleImputer(missing_values = np.nan, strategy = 'mean')\n",
        "imputer.fit(features_n)\n",
        "features_n = imputer.transform(features_n)"
      ],
      "metadata": {
        "id": "SAfFdWabUD7f"
      },
      "execution_count": 251,
      "outputs": []
    },
    {
      "cell_type": "code",
      "source": [
        "sales_list = sales_n['Sales'].tolist()\n",
        "print(sales_list)"
      ],
      "metadata": {
        "colab": {
          "base_uri": "https://localhost:8080/"
        },
        "id": "pdLFalMpUQTG",
        "outputId": "b4650cb3-b03e-4a69-9146-79769e62da66"
      },
      "execution_count": 252,
      "outputs": [
        {
          "output_type": "stream",
          "name": "stdout",
          "text": [
            "[22.1, 10.4, 12.0, 16.5, 17.9, 7.2, 11.8, 13.2, 4.8, 15.6, 12.6, 17.4, 9.2, 13.7, 19.0, 22.4, 12.5, 24.4, 11.3, 14.6, 18.0, 17.5, 5.6, 20.5, 9.7, 17.0, 15.0, 20.9, 18.9, 10.5, 21.4, 11.9, 13.2, 17.4, 11.9, 17.8, 25.4, 14.7, 10.1, 21.5, 16.6, 17.1, 20.7, 17.9, 8.5, 16.1, 10.6, 23.2, 19.8, 9.7, 16.4, 10.7, 22.6, 21.2, 20.2, 23.7, 5.5, 13.2, 23.8, 18.4, 8.1, 24.2, 20.7, 14.0, 16.0, 11.3, 11.0, 13.4, 18.9, 22.3, 18.3, 12.4, 8.8, 11.0, 17.0, 8.7, 6.9, 14.2, 5.3, 11.0, 11.8, 17.3, 11.3, 13.6, 21.7, 20.2, 12.0, 16.0, 12.9, 16.7, 14.0, 7.3, 19.4, 22.2, 11.5, 16.9, 16.7, 20.5, 25.4, 17.2, 16.7, 23.8, 19.8, 19.7, 20.7, 15.0, 7.2, 12.0, 5.3, 19.8, 18.4, 21.8, 17.1, 20.9, 14.6, 12.6, 12.2, 9.4, 15.9, 6.6, 15.5, 7.0, 16.6, 15.2, 19.7, 10.6, 6.6, 11.9, 24.7, 9.7, 1.6, 17.7, 5.7, 19.6, 10.8, 11.6, 9.5, 20.8, 9.6, 20.7, 10.9, 19.2, 20.1, 10.4, 12.3, 10.3, 18.2, 25.4, 10.9, 10.1, 16.1, 11.6, 16.6, 16.0, 20.6, 3.2, 15.3, 10.1, 7.3, 12.9, 16.4, 13.3, 19.9, 18.0, 11.9, 16.9, 8.0, 17.2, 17.1, 20.0, 8.4, 17.5, 7.6, 16.7, 16.5, 27.0, 20.2, 16.7, 16.8, 17.6, 15.5, 17.2, 8.7, 26.2, 17.6, 22.6, 10.3, 17.3, 20.9, 6.7, 10.8, 11.9, 5.9, 19.6, 17.3, 7.6, 14.0, 14.8, 25.5, 18.4]\n"
          ]
        }
      ]
    },
    {
      "cell_type": "code",
      "source": [
        "# Normalization of dataset:\n",
        "from sklearn import preprocessing\n",
        "normalized_features = preprocessing.normalize(features_n)"
      ],
      "metadata": {
        "id": "g77eEOXmHwmr"
      },
      "execution_count": 253,
      "outputs": []
    },
    {
      "cell_type": "code",
      "source": [
        "def normalize(arr, t_min, t_max):\n",
        "    norm_arr = []\n",
        "    diff = t_max - t_min\n",
        "    diff_arr = max(arr) - min(arr)\n",
        "    for i in arr:\n",
        "        temp = (((i - min(arr))*diff)/diff_arr) + t_min\n",
        "        norm_arr.append(temp)\n",
        "    return norm_arr\n",
        "\n",
        "normalized_sales = normalize(sales_list, 0, 1)\n",
        "print(normalized_sales)"
      ],
      "metadata": {
        "colab": {
          "base_uri": "https://localhost:8080/"
        },
        "id": "My8d6LfZUNsZ",
        "outputId": "9a85b535-9312-4bb5-de43-afee47c1fad2"
      },
      "execution_count": 254,
      "outputs": [
        {
          "output_type": "stream",
          "name": "stdout",
          "text": [
            "[0.8070866141732284, 0.3464566929133859, 0.40944881889763785, 0.5866141732283465, 0.6417322834645669, 0.2204724409448819, 0.40157480314960636, 0.4566929133858268, 0.12598425196850394, 0.5511811023622047, 0.4330708661417323, 0.6220472440944882, 0.2992125984251969, 0.4763779527559055, 0.6850393700787402, 0.8188976377952756, 0.42913385826771655, 0.8976377952755905, 0.3818897637795276, 0.5118110236220472, 0.6456692913385826, 0.6259842519685039, 0.15748031496062992, 0.7440944881889764, 0.3188976377952756, 0.6062992125984252, 0.5275590551181103, 0.7598425196850394, 0.6811023622047243, 0.3503937007874016, 0.7795275590551181, 0.4055118110236221, 0.4566929133858268, 0.6220472440944882, 0.4055118110236221, 0.6377952755905512, 0.9370078740157479, 0.515748031496063, 0.3346456692913386, 0.7834645669291338, 0.5905511811023623, 0.6102362204724411, 0.7519685039370079, 0.6417322834645669, 0.27165354330708663, 0.5708661417322836, 0.35433070866141736, 0.8503937007874015, 0.7165354330708662, 0.3188976377952756, 0.5826771653543307, 0.3582677165354331, 0.8267716535433072, 0.7716535433070866, 0.732283464566929, 0.8700787401574803, 0.15354330708661418, 0.4566929133858268, 0.8740157480314961, 0.6614173228346456, 0.2559055118110236, 0.889763779527559, 0.7519685039370079, 0.4881889763779528, 0.5669291338582677, 0.3818897637795276, 0.3700787401574803, 0.46456692913385833, 0.6811023622047243, 0.8149606299212598, 0.65748031496063, 0.42519685039370086, 0.2834645669291339, 0.3700787401574803, 0.6062992125984252, 0.2795275590551181, 0.2086614173228347, 0.49606299212598426, 0.14566929133858267, 0.3700787401574803, 0.40157480314960636, 0.6181102362204726, 0.3818897637795276, 0.4724409448818898, 0.7913385826771653, 0.732283464566929, 0.40944881889763785, 0.5669291338582677, 0.44488188976377957, 0.594488188976378, 0.4881889763779528, 0.22440944881889763, 0.7007874015748031, 0.8110236220472441, 0.3897637795275591, 0.6023622047244095, 0.594488188976378, 0.7440944881889764, 0.9370078740157479, 0.6141732283464567, 0.594488188976378, 0.8740157480314961, 0.7165354330708662, 0.7125984251968503, 0.7519685039370079, 0.5275590551181103, 0.2204724409448819, 0.40944881889763785, 0.14566929133858267, 0.7165354330708662, 0.6614173228346456, 0.7952755905511811, 0.6102362204724411, 0.7598425196850394, 0.5118110236220472, 0.4330708661417323, 0.4173228346456693, 0.3070866141732284, 0.5629921259842521, 0.1968503937007874, 0.547244094488189, 0.21259842519685043, 0.5905511811023623, 0.5354330708661418, 0.7125984251968503, 0.35433070866141736, 0.1968503937007874, 0.4055118110236221, 0.9094488188976377, 0.3188976377952756, 0.0, 0.6338582677165354, 0.16141732283464566, 0.7086614173228347, 0.3622047244094489, 0.3937007874015748, 0.31102362204724415, 0.7559055118110236, 0.31496062992125984, 0.7519685039370079, 0.36614173228346464, 0.6929133858267716, 0.7283464566929134, 0.3464566929133859, 0.4212598425196851, 0.34251968503937014, 0.6535433070866141, 0.9370078740157479, 0.36614173228346464, 0.3346456692913386, 0.5708661417322836, 0.3937007874015748, 0.5905511811023623, 0.5669291338582677, 0.7480314960629921, 0.06299212598425198, 0.5393700787401575, 0.3346456692913386, 0.22440944881889763, 0.44488188976377957, 0.5826771653543307, 0.4606299212598426, 0.7204724409448818, 0.6456692913385826, 0.4055118110236221, 0.6023622047244095, 0.2519685039370079, 0.6141732283464567, 0.6102362204724411, 0.7244094488188976, 0.2677165354330709, 0.6259842519685039, 0.2362204724409449, 0.594488188976378, 0.5866141732283465, 1.0, 0.732283464566929, 0.594488188976378, 0.5984251968503937, 0.6299212598425197, 0.547244094488189, 0.6141732283464567, 0.2795275590551181, 0.968503937007874, 0.6299212598425197, 0.8267716535433072, 0.34251968503937014, 0.6181102362204726, 0.7598425196850394, 0.20078740157480315, 0.3622047244094489, 0.4055118110236221, 0.1692913385826772, 0.7086614173228347, 0.6181102362204726, 0.2362204724409449, 0.4881889763779528, 0.5196850393700788, 0.9409448818897638, 0.6614173228346456]\n"
          ]
        }
      ]
    },
    {
      "cell_type": "code",
      "source": [
        "# Splitting data into training and testing sets:\n",
        "from sklearn.model_selection import train_test_split\n",
        "n_features_train, n_features_test, n_sales_train, n_sales_test = train_test_split(normalized_features, normalized_sales, test_size = 0.2, random_state = 1)"
      ],
      "metadata": {
        "id": "RbfucpLEIKXM"
      },
      "execution_count": 255,
      "outputs": []
    },
    {
      "cell_type": "code",
      "source": [
        "#Linear Regression:\n",
        "n_model = LinearRegression()\n",
        "n_model.fit(n_features_train, n_sales_train)"
      ],
      "metadata": {
        "colab": {
          "base_uri": "https://localhost:8080/",
          "height": 74
        },
        "id": "Em2HRA5HIsyl",
        "outputId": "cf07e082-ac2d-4146-b03c-2226a5e0b8da"
      },
      "execution_count": 256,
      "outputs": [
        {
          "output_type": "execute_result",
          "data": {
            "text/plain": [
              "LinearRegression()"
            ],
            "text/html": [
              "<style>#sk-container-id-12 {color: black;}#sk-container-id-12 pre{padding: 0;}#sk-container-id-12 div.sk-toggleable {background-color: white;}#sk-container-id-12 label.sk-toggleable__label {cursor: pointer;display: block;width: 100%;margin-bottom: 0;padding: 0.3em;box-sizing: border-box;text-align: center;}#sk-container-id-12 label.sk-toggleable__label-arrow:before {content: \"▸\";float: left;margin-right: 0.25em;color: #696969;}#sk-container-id-12 label.sk-toggleable__label-arrow:hover:before {color: black;}#sk-container-id-12 div.sk-estimator:hover label.sk-toggleable__label-arrow:before {color: black;}#sk-container-id-12 div.sk-toggleable__content {max-height: 0;max-width: 0;overflow: hidden;text-align: left;background-color: #f0f8ff;}#sk-container-id-12 div.sk-toggleable__content pre {margin: 0.2em;color: black;border-radius: 0.25em;background-color: #f0f8ff;}#sk-container-id-12 input.sk-toggleable__control:checked~div.sk-toggleable__content {max-height: 200px;max-width: 100%;overflow: auto;}#sk-container-id-12 input.sk-toggleable__control:checked~label.sk-toggleable__label-arrow:before {content: \"▾\";}#sk-container-id-12 div.sk-estimator input.sk-toggleable__control:checked~label.sk-toggleable__label {background-color: #d4ebff;}#sk-container-id-12 div.sk-label input.sk-toggleable__control:checked~label.sk-toggleable__label {background-color: #d4ebff;}#sk-container-id-12 input.sk-hidden--visually {border: 0;clip: rect(1px 1px 1px 1px);clip: rect(1px, 1px, 1px, 1px);height: 1px;margin: -1px;overflow: hidden;padding: 0;position: absolute;width: 1px;}#sk-container-id-12 div.sk-estimator {font-family: monospace;background-color: #f0f8ff;border: 1px dotted black;border-radius: 0.25em;box-sizing: border-box;margin-bottom: 0.5em;}#sk-container-id-12 div.sk-estimator:hover {background-color: #d4ebff;}#sk-container-id-12 div.sk-parallel-item::after {content: \"\";width: 100%;border-bottom: 1px solid gray;flex-grow: 1;}#sk-container-id-12 div.sk-label:hover label.sk-toggleable__label {background-color: #d4ebff;}#sk-container-id-12 div.sk-serial::before {content: \"\";position: absolute;border-left: 1px solid gray;box-sizing: border-box;top: 0;bottom: 0;left: 50%;z-index: 0;}#sk-container-id-12 div.sk-serial {display: flex;flex-direction: column;align-items: center;background-color: white;padding-right: 0.2em;padding-left: 0.2em;position: relative;}#sk-container-id-12 div.sk-item {position: relative;z-index: 1;}#sk-container-id-12 div.sk-parallel {display: flex;align-items: stretch;justify-content: center;background-color: white;position: relative;}#sk-container-id-12 div.sk-item::before, #sk-container-id-12 div.sk-parallel-item::before {content: \"\";position: absolute;border-left: 1px solid gray;box-sizing: border-box;top: 0;bottom: 0;left: 50%;z-index: -1;}#sk-container-id-12 div.sk-parallel-item {display: flex;flex-direction: column;z-index: 1;position: relative;background-color: white;}#sk-container-id-12 div.sk-parallel-item:first-child::after {align-self: flex-end;width: 50%;}#sk-container-id-12 div.sk-parallel-item:last-child::after {align-self: flex-start;width: 50%;}#sk-container-id-12 div.sk-parallel-item:only-child::after {width: 0;}#sk-container-id-12 div.sk-dashed-wrapped {border: 1px dashed gray;margin: 0 0.4em 0.5em 0.4em;box-sizing: border-box;padding-bottom: 0.4em;background-color: white;}#sk-container-id-12 div.sk-label label {font-family: monospace;font-weight: bold;display: inline-block;line-height: 1.2em;}#sk-container-id-12 div.sk-label-container {text-align: center;}#sk-container-id-12 div.sk-container {/* jupyter's `normalize.less` sets `[hidden] { display: none; }` but bootstrap.min.css set `[hidden] { display: none !important; }` so we also need the `!important` here to be able to override the default hidden behavior on the sphinx rendered scikit-learn.org. See: https://github.com/scikit-learn/scikit-learn/issues/21755 */display: inline-block !important;position: relative;}#sk-container-id-12 div.sk-text-repr-fallback {display: none;}</style><div id=\"sk-container-id-12\" class=\"sk-top-container\"><div class=\"sk-text-repr-fallback\"><pre>LinearRegression()</pre><b>In a Jupyter environment, please rerun this cell to show the HTML representation or trust the notebook. <br />On GitHub, the HTML representation is unable to render, please try loading this page with nbviewer.org.</b></div><div class=\"sk-container\" hidden><div class=\"sk-item\"><div class=\"sk-estimator sk-toggleable\"><input class=\"sk-toggleable__control sk-hidden--visually\" id=\"sk-estimator-id-12\" type=\"checkbox\" checked><label for=\"sk-estimator-id-12\" class=\"sk-toggleable__label sk-toggleable__label-arrow\">LinearRegression</label><div class=\"sk-toggleable__content\"><pre>LinearRegression()</pre></div></div></div></div></div>"
            ]
          },
          "metadata": {},
          "execution_count": 256
        }
      ]
    },
    {
      "cell_type": "code",
      "source": [
        "n_sales_pred = n_model.predict(n_features_test)"
      ],
      "metadata": {
        "id": "po-aAp4eI4aB"
      },
      "execution_count": 257,
      "outputs": []
    },
    {
      "cell_type": "code",
      "source": [
        "# Visualization of our predictions:\n",
        "plt.scatter(n_sales_test, n_sales_pred)\n",
        "plt.plot([min(n_sales_test), max(n_sales_pred)], [min(n_sales_test), max(n_sales_pred)], color = 'red')\n",
        "plt.title(\"Normalized Predicted Sales vs Normalized Actual Sales\")\n",
        "plt.xlabel(\"Normalized Actual Sales\")\n",
        "plt.ylabel(\"NormalizedPredicted Sales\")\n",
        "plt.show()"
      ],
      "metadata": {
        "colab": {
          "base_uri": "https://localhost:8080/",
          "height": 472
        },
        "id": "nAc_2IXCI7kh",
        "outputId": "7af8fd36-fe7b-40ef-a1ef-aa01bc149b93"
      },
      "execution_count": 258,
      "outputs": [
        {
          "output_type": "display_data",
          "data": {
            "text/plain": [
              "<Figure size 640x480 with 1 Axes>"
            ],
            "image/png": "[encoded data removed]"
          },
          "metadata": {}
        }
      ]
    },
    {
      "cell_type": "markdown",
      "source": [
        "\n",
        "\n",
        "---\n",
        "\n",
        "\n",
        "\n",
        "---\n",
        "\n"
      ],
      "metadata": {
        "id": "Lz3-kKpPJs4S"
      }
    },
    {
      "cell_type": "markdown",
      "source": [
        "Project contributor\n",
        "\n",
        "-- Name: Amit Pareek\n",
        "\n",
        "-- email id: pareekamit043@gmail.com\n",
        "\n",
        "-- In Finlatics, under guidance of Saniya Bahugana"
      ],
      "metadata": {
        "id": "eArdbXiWXT-R"
      }
    }
  ]
}