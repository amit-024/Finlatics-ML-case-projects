{
  "nbformat": 4,
  "nbformat_minor": 0,
  "metadata": {
    "colab": {
      "provenance": []
    },
    "kernelspec": {
      "name": "python3",
      "display_name": "Python 3"
    },
    "language_info": {
      "name": "python"
    }
  },
  "cells": [
    {
      "cell_type": "markdown",
      "source": [
        "# Project 2\n"
      ],
      "metadata": {
        "id": "zxwb1qX6q-AD"
      }
    },
    {
      "cell_type": "markdown",
      "source": [
        "Wine Quality Dataset:\n",
        "\n",
        "This dataset contains various physicochemical properties and quality ratings for red wine samples. The features (fixed acidity, volatile acidity, citric acid, etc.) are used to predict the wine's quality, which is rated on a scale from 0 to 10. Each column represents a different aspect of the wine's composition or assessed quality."
      ],
      "metadata": {
        "id": "6_Yj4ND1rexF"
      }
    },
    {
      "cell_type": "markdown",
      "source": [
        "1.\tWhat is the most frequently occurring wine quality? What is the highest number in and the lowest number in the quality column?"
      ],
      "metadata": {
        "id": "f0n-pa0ErloG"
      }
    },
    {
      "cell_type": "code",
      "execution_count": 1,
      "metadata": {
        "id": "ia0RYXqkq5OH"
      },
      "outputs": [],
      "source": [
        "#Importing Libraries:\n",
        "import pandas as pd\n",
        "import numpy as np"
      ]
    },
    {
      "cell_type": "code",
      "source": [
        "#Importing Dataset:\n",
        "dataset = pd.read_csv(\"wine_data.csv\")"
      ],
      "metadata": {
        "id": "Z6vYmu0wtDuW"
      },
      "execution_count": 2,
      "outputs": []
    },
    {
      "cell_type": "code",
      "source": [
        "#finding mode(most frequency) of quality column using mode() function\n",
        "mode_value = dataset['quality'].mode()[0]"
      ],
      "metadata": {
        "id": "XCE1JlpCtOma"
      },
      "execution_count": 3,
      "outputs": []
    },
    {
      "cell_type": "code",
      "source": [
        "print(\"The most frequently occurring wine quality is\", mode_value)"
      ],
      "metadata": {
        "colab": {
          "base_uri": "https://localhost:8080/"
        },
        "id": "WKIHnmOJtVrM",
        "outputId": "ddc736d6-a0ac-4129-967f-7ebbc0991ab4"
      },
      "execution_count": 4,
      "outputs": [
        {
          "output_type": "stream",
          "name": "stdout",
          "text": [
            "The most frequently occurring wine quality is 5\n"
          ]
        }
      ]
    },
    {
      "cell_type": "code",
      "source": [
        "highest_rate = dataset.max()['quality']\n",
        "#Finding the maximum value in the quality column using max() function"
      ],
      "metadata": {
        "id": "x3C5ehcwtrHA"
      },
      "execution_count": 5,
      "outputs": []
    },
    {
      "cell_type": "code",
      "source": [
        "print(\"The highest rating received in our wine dataset is\", highest_rate)"
      ],
      "metadata": {
        "colab": {
          "base_uri": "https://localhost:8080/"
        },
        "id": "CraCWmj4uOC9",
        "outputId": "d61acb3f-5ab2-4699-db75-56bd06da92d8"
      },
      "execution_count": 6,
      "outputs": [
        {
          "output_type": "stream",
          "name": "stdout",
          "text": [
            "The highest rating received in our wine dataset is 8.0\n"
          ]
        }
      ]
    },
    {
      "cell_type": "code",
      "source": [
        "lowest_rate = dataset.min()['quality']\n",
        "#Finding the minimum value in the quality column using min() function"
      ],
      "metadata": {
        "id": "B4wwcQRkueq5"
      },
      "execution_count": 7,
      "outputs": []
    },
    {
      "cell_type": "code",
      "source": [
        "print(\"The lowest rating received in our wine dataset is\", lowest_rate)"
      ],
      "metadata": {
        "colab": {
          "base_uri": "https://localhost:8080/"
        },
        "id": "9Jw_1noTuvUt",
        "outputId": "028e0f70-6c81-4c38-da0f-bc51fe5e04d0"
      },
      "execution_count": 8,
      "outputs": [
        {
          "output_type": "stream",
          "name": "stdout",
          "text": [
            "The lowest rating received in our wine dataset is 3.0\n"
          ]
        }
      ]
    },
    {
      "cell_type": "markdown",
      "source": [
        "\n",
        "\n",
        "---\n",
        "\n"
      ],
      "metadata": {
        "id": "JMYfOM1Cu-5R"
      }
    },
    {
      "cell_type": "markdown",
      "source": [
        "2.\tHow is `fixed acidity` correlated to the quality of the wine? How does the alcohol content affect the quality? How is the `free Sulphur dioxide` content correlated to the quality of the wine?"
      ],
      "metadata": {
        "id": "ec2PD01vu6c2"
      }
    },
    {
      "cell_type": "markdown",
      "source": [
        "(i) How is fixed acidity correlated to the quality of the wine?"
      ],
      "metadata": {
        "id": "VKTan1p5vDjI"
      }
    },
    {
      "cell_type": "code",
      "source": [
        "fixed_acidity = dataset.iloc[:,[0]]\n",
        "quality = dataset.iloc[:,[11]]"
      ],
      "metadata": {
        "id": "qCT3P-U-u2Fc"
      },
      "execution_count": 9,
      "outputs": []
    },
    {
      "cell_type": "code",
      "source": [
        "combined_data = pd.concat([fixed_acidity, quality], axis = 1)"
      ],
      "metadata": {
        "id": "Ohx9CcnCvod5"
      },
      "execution_count": 10,
      "outputs": []
    },
    {
      "cell_type": "code",
      "source": [
        "# Making the correlation between fixed_acidity and quality:\n",
        "correlation_matrix_1 = combined_data.corr()"
      ],
      "metadata": {
        "id": "knhRevnJvydk"
      },
      "execution_count": 11,
      "outputs": []
    },
    {
      "cell_type": "code",
      "source": [
        "print(correlation_matrix_1)"
      ],
      "metadata": {
        "colab": {
          "base_uri": "https://localhost:8080/"
        },
        "id": "meYnrTeWwCUq",
        "outputId": "09808a6f-3b25-4b52-a660-38def73c7f40"
      },
      "execution_count": 12,
      "outputs": [
        {
          "output_type": "stream",
          "name": "stdout",
          "text": [
            "               fixed acidity   quality\n",
            "fixed acidity       1.000000  0.124052\n",
            "quality             0.124052  1.000000\n"
          ]
        }
      ]
    },
    {
      "cell_type": "markdown",
      "source": [
        "The correlation between fixed acidity and quality of wine is 0.124052.\n",
        "Positive correlation means that both variables change in the same direction."
      ],
      "metadata": {
        "id": "-Y9pCZMzEWZ5"
      }
    },
    {
      "cell_type": "markdown",
      "source": [
        "(ii) How does the alcohol content affect the quality?"
      ],
      "metadata": {
        "id": "lXEVJxnmwLh7"
      }
    },
    {
      "cell_type": "code",
      "source": [
        "# Group by the quality and calculate the sum of alcohol for each rate\n",
        "grouped_df = dataset.groupby('quality')['alcohol'].sum().reset_index()\n",
        "\n",
        "# Print the aggregated data\n",
        "print(grouped_df)"
      ],
      "metadata": {
        "colab": {
          "base_uri": "https://localhost:8080/"
        },
        "id": "UwggCgSuT8Tu",
        "outputId": "dd3d0ae0-5b87-4465-d036-eb797c7a6298"
      },
      "execution_count": 13,
      "outputs": [
        {
          "output_type": "stream",
          "name": "stdout",
          "text": [
            "   quality      alcohol\n",
            "0        3    99.550000\n",
            "1        4   544.050000\n",
            "2        5  6741.700000\n",
            "3        6  6781.633333\n",
            "4        7  2281.716667\n",
            "5        8   217.700000\n"
          ]
        }
      ]
    },
    {
      "cell_type": "code",
      "source": [
        "import matplotlib.pyplot as plt\n",
        "# Plotting the relationship\n",
        "plt.figure(figsize=(12, 6))\n",
        "plt.plot(grouped_df['quality'], grouped_df['alcohol'], marker='o')\n",
        "plt.title('Total alcohol content by quality of the wine')\n",
        "plt.xlabel('Quality of the wine')\n",
        "plt.ylabel('Total alcohol content')\n",
        "plt.xticks(range(11))\n",
        "plt.grid(True)\n",
        "plt.show()"
      ],
      "metadata": {
        "colab": {
          "base_uri": "https://localhost:8080/",
          "height": 564
        },
        "id": "EB_T-FFUUYZA",
        "outputId": "bf569aa2-e656-4ffc-e7df-8f6eb971156b"
      },
      "execution_count": 14,
      "outputs": [
        {
          "output_type": "display_data",
          "data": {
            "text/plain": [
              "<Figure size 1200x600 with 1 Axes>"
            ],
            "image/png": "[encoded data removed]"
          },
          "metadata": {}
        }
      ]
    },
    {
      "cell_type": "markdown",
      "source": [
        "(iii) How is the free Sulphur dioxide content correlated to the quality of the wine?"
      ],
      "metadata": {
        "id": "jynKp8rlBn76"
      }
    },
    {
      "cell_type": "code",
      "source": [
        "free_sulphur_dioxide = dataset.iloc[:, [5]]"
      ],
      "metadata": {
        "id": "v-IYUBWEBaDU"
      },
      "execution_count": 15,
      "outputs": []
    },
    {
      "cell_type": "code",
      "source": [
        "combined_data2 = pd.concat([free_sulphur_dioxide, quality], axis = 1)"
      ],
      "metadata": {
        "id": "klYYZLUkCbvN"
      },
      "execution_count": 16,
      "outputs": []
    },
    {
      "cell_type": "code",
      "source": [
        "# Finding the correlation matrix using corr() function\n",
        "correlation_matrix_2_3 = combined_data2.corr()"
      ],
      "metadata": {
        "id": "l0StLZF-B7aA"
      },
      "execution_count": 17,
      "outputs": []
    },
    {
      "cell_type": "code",
      "source": [
        "print(correlation_matrix_2_3)"
      ],
      "metadata": {
        "colab": {
          "base_uri": "https://localhost:8080/"
        },
        "id": "9t-EWClJC_S5",
        "outputId": "b80d95cb-a597-4078-85a1-0db7292d0bb4"
      },
      "execution_count": 18,
      "outputs": [
        {
          "output_type": "stream",
          "name": "stdout",
          "text": [
            "                     free sulfur dioxide   quality\n",
            "free sulfur dioxide             1.000000 -0.050656\n",
            "quality                        -0.050656  1.000000\n"
          ]
        }
      ]
    },
    {
      "cell_type": "markdown",
      "source": [
        "The correlation between free sulpher dioxide and quality of the wine is -0.050656.\n",
        "\n",
        "A negative correlation means that the variables change in opposite directions."
      ],
      "metadata": {
        "id": "0qhA-pWSDYOW"
      }
    },
    {
      "cell_type": "markdown",
      "source": [
        "\n",
        "\n",
        "---\n",
        "\n"
      ],
      "metadata": {
        "id": "twsU8j_1ETdz"
      }
    },
    {
      "cell_type": "markdown",
      "source": [
        "3.\tWhat is the average `residual sugar` for the best quality wine and the lowest quality wine in the dataset?"
      ],
      "metadata": {
        "id": "p4CwhMDKEmcA"
      }
    },
    {
      "cell_type": "code",
      "source": [
        "# Dividing/grouping the dataset wrt quality's different value using groupby() function and finding mean of residual sugar of each group seperately.\n",
        "avg_residual_sugar = dataset.groupby('quality')['residual sugar'].mean()"
      ],
      "metadata": {
        "id": "ZbQrOrMIDOOD"
      },
      "execution_count": 19,
      "outputs": []
    },
    {
      "cell_type": "code",
      "source": [
        "print(avg_residual_sugar)"
      ],
      "metadata": {
        "colab": {
          "base_uri": "https://localhost:8080/"
        },
        "id": "XsAxz-t9pSiD",
        "outputId": "f4a09526-b357-4bc4-89ae-daaa82da627d"
      },
      "execution_count": 20,
      "outputs": [
        {
          "output_type": "stream",
          "name": "stdout",
          "text": [
            "quality\n",
            "3    2.635000\n",
            "4    2.694340\n",
            "5    2.528855\n",
            "6    2.477194\n",
            "7    2.720603\n",
            "8    2.577778\n",
            "Name: residual sugar, dtype: float64\n"
          ]
        }
      ]
    },
    {
      "cell_type": "markdown",
      "source": [
        "The average value of residual sugar for the best quality wine (rating = 8) and the lowest quality wine (rating = 3) is 2.635000 and 2.577778 respectively"
      ],
      "metadata": {
        "id": "sEN3PRM9pb9b"
      }
    },
    {
      "cell_type": "markdown",
      "source": [
        "\n",
        "\n",
        "---\n",
        "\n"
      ],
      "metadata": {
        "id": "nOiNWm3qpygt"
      }
    },
    {
      "cell_type": "markdown",
      "source": [
        "4.\tDoes `volatile acidity` has an effect over the quality of the wine samples in the dataset?"
      ],
      "metadata": {
        "id": "RiUm0BZNpzpZ"
      }
    },
    {
      "cell_type": "markdown",
      "source": [
        "One way to find out the if there is an effect over the quality of wine or not is checking out correlation.\n",
        "\n",
        "If correlation is +1 or -1, then it indicates strong linear relation while if correlation is close or equal to 0, then it indicates weak or no linear relation between them."
      ],
      "metadata": {
        "id": "96K6o8teqIL_"
      }
    },
    {
      "cell_type": "code",
      "source": [
        "volatile_acidity = dataset.iloc[:,[1]]"
      ],
      "metadata": {
        "id": "URRDneTipU1q"
      },
      "execution_count": 21,
      "outputs": []
    },
    {
      "cell_type": "code",
      "source": [
        "combined_data3 = pd.concat([volatile_acidity, quality], axis = 1)"
      ],
      "metadata": {
        "id": "uWt1XmznqwK4"
      },
      "execution_count": 22,
      "outputs": []
    },
    {
      "cell_type": "code",
      "source": [
        "correlation_matrix_4 = combined_data3.corr()\n",
        "print(correlation_matrix_4)"
      ],
      "metadata": {
        "colab": {
          "base_uri": "https://localhost:8080/"
        },
        "id": "ABcgoCJbrDI4",
        "outputId": "e87231ce-99bc-4730-f5f6-472cc34284ab"
      },
      "execution_count": 23,
      "outputs": [
        {
          "output_type": "stream",
          "name": "stdout",
          "text": [
            "                  volatile acidity   quality\n",
            "volatile acidity          1.000000 -0.390558\n",
            "quality                  -0.390558  1.000000\n"
          ]
        }
      ]
    },
    {
      "cell_type": "markdown",
      "source": [
        "Yes, volatile acidity has an effect over the quality of the wine samples. They are negatively correlated (correlation = -0.390558) with each other means that the variables change in opposite direction."
      ],
      "metadata": {
        "id": "RmLjTEf4rQnx"
      }
    },
    {
      "cell_type": "markdown",
      "source": [
        "\n",
        "\n",
        "---\n",
        "\n"
      ],
      "metadata": {
        "id": "zI2BIrebrrNa"
      }
    },
    {
      "cell_type": "markdown",
      "source": [
        "5.\tTrain a Decision Tree model and Random Forest Model separately to predict the Quality of the given samples of wine. Compare the Accuracy scores for both models."
      ],
      "metadata": {
        "id": "w5rfGu_2rsX-"
      }
    },
    {
      "cell_type": "markdown",
      "source": [
        "Decision Tree Model:"
      ],
      "metadata": {
        "id": "1n4s-6iDrzEP"
      }
    },
    {
      "cell_type": "code",
      "source": [
        "features = dataset.drop('quality', axis = 1)\n",
        "quality = dataset['quality']"
      ],
      "metadata": {
        "id": "2bCtOoNYrNwm"
      },
      "execution_count": 24,
      "outputs": []
    },
    {
      "cell_type": "code",
      "source": [
        "# Train-test split:\n",
        "from sklearn.model_selection import train_test_split\n",
        "features_train, features_test, quality_train, quality_test = train_test_split(features, quality, test_size = 0.25, random_state = 0)"
      ],
      "metadata": {
        "id": "rQ3d--qnsd3L"
      },
      "execution_count": 25,
      "outputs": []
    },
    {
      "cell_type": "code",
      "source": [
        "# Features Scaling:\n",
        "from sklearn.preprocessing import StandardScaler\n",
        "sc = StandardScaler()\n",
        "features_train = sc.fit_transform(features_train)\n",
        "features_test = sc.transform(features_test)"
      ],
      "metadata": {
        "id": "asCGhQdGswbd"
      },
      "execution_count": 26,
      "outputs": []
    },
    {
      "cell_type": "code",
      "source": [
        "# Training the Decision Tree classification model on the training set:\n",
        "from sklearn.tree import DecisionTreeClassifier\n",
        "classifier = DecisionTreeClassifier(criterion = 'entropy', random_state = 0)\n",
        "classifier.fit(features_train, quality_train)"
      ],
      "metadata": {
        "colab": {
          "base_uri": "https://localhost:8080/",
          "height": 74
        },
        "id": "h4va-iMEt-px",
        "outputId": "e8abb958-315d-46de-93ce-40eb91b59a10"
      },
      "execution_count": 27,
      "outputs": [
        {
          "output_type": "execute_result",
          "data": {
            "text/plain": [
              "DecisionTreeClassifier(criterion='entropy', random_state=0)"
            ],
            "text/html": [
              "<style>#sk-container-id-1 {color: black;}#sk-container-id-1 pre{padding: 0;}#sk-container-id-1 div.sk-toggleable {background-color: white;}#sk-container-id-1 label.sk-toggleable__label {cursor: pointer;display: block;width: 100%;margin-bottom: 0;padding: 0.3em;box-sizing: border-box;text-align: center;}#sk-container-id-1 label.sk-toggleable__label-arrow:before {content: \"▸\";float: left;margin-right: 0.25em;color: #696969;}#sk-container-id-1 label.sk-toggleable__label-arrow:hover:before {color: black;}#sk-container-id-1 div.sk-estimator:hover label.sk-toggleable__label-arrow:before {color: black;}#sk-container-id-1 div.sk-toggleable__content {max-height: 0;max-width: 0;overflow: hidden;text-align: left;background-color: #f0f8ff;}#sk-container-id-1 div.sk-toggleable__content pre {margin: 0.2em;color: black;border-radius: 0.25em;background-color: #f0f8ff;}#sk-container-id-1 input.sk-toggleable__control:checked~div.sk-toggleable__content {max-height: 200px;max-width: 100%;overflow: auto;}#sk-container-id-1 input.sk-toggleable__control:checked~label.sk-toggleable__label-arrow:before {content: \"▾\";}#sk-container-id-1 div.sk-estimator input.sk-toggleable__control:checked~label.sk-toggleable__label {background-color: #d4ebff;}#sk-container-id-1 div.sk-label input.sk-toggleable__control:checked~label.sk-toggleable__label {background-color: #d4ebff;}#sk-container-id-1 input.sk-hidden--visually {border: 0;clip: rect(1px 1px 1px 1px);clip: rect(1px, 1px, 1px, 1px);height: 1px;margin: -1px;overflow: hidden;padding: 0;position: absolute;width: 1px;}#sk-container-id-1 div.sk-estimator {font-family: monospace;background-color: #f0f8ff;border: 1px dotted black;border-radius: 0.25em;box-sizing: border-box;margin-bottom: 0.5em;}#sk-container-id-1 div.sk-estimator:hover {background-color: #d4ebff;}#sk-container-id-1 div.sk-parallel-item::after {content: \"\";width: 100%;border-bottom: 1px solid gray;flex-grow: 1;}#sk-container-id-1 div.sk-label:hover label.sk-toggleable__label {background-color: #d4ebff;}#sk-container-id-1 div.sk-serial::before {content: \"\";position: absolute;border-left: 1px solid gray;box-sizing: border-box;top: 0;bottom: 0;left: 50%;z-index: 0;}#sk-container-id-1 div.sk-serial {display: flex;flex-direction: column;align-items: center;background-color: white;padding-right: 0.2em;padding-left: 0.2em;position: relative;}#sk-container-id-1 div.sk-item {position: relative;z-index: 1;}#sk-container-id-1 div.sk-parallel {display: flex;align-items: stretch;justify-content: center;background-color: white;position: relative;}#sk-container-id-1 div.sk-item::before, #sk-container-id-1 div.sk-parallel-item::before {content: \"\";position: absolute;border-left: 1px solid gray;box-sizing: border-box;top: 0;bottom: 0;left: 50%;z-index: -1;}#sk-container-id-1 div.sk-parallel-item {display: flex;flex-direction: column;z-index: 1;position: relative;background-color: white;}#sk-container-id-1 div.sk-parallel-item:first-child::after {align-self: flex-end;width: 50%;}#sk-container-id-1 div.sk-parallel-item:last-child::after {align-self: flex-start;width: 50%;}#sk-container-id-1 div.sk-parallel-item:only-child::after {width: 0;}#sk-container-id-1 div.sk-dashed-wrapped {border: 1px dashed gray;margin: 0 0.4em 0.5em 0.4em;box-sizing: border-box;padding-bottom: 0.4em;background-color: white;}#sk-container-id-1 div.sk-label label {font-family: monospace;font-weight: bold;display: inline-block;line-height: 1.2em;}#sk-container-id-1 div.sk-label-container {text-align: center;}#sk-container-id-1 div.sk-container {/* jupyter's `normalize.less` sets `[hidden] { display: none; }` but bootstrap.min.css set `[hidden] { display: none !important; }` so we also need the `!important` here to be able to override the default hidden behavior on the sphinx rendered scikit-learn.org. See: https://github.com/scikit-learn/scikit-learn/issues/21755 */display: inline-block !important;position: relative;}#sk-container-id-1 div.sk-text-repr-fallback {display: none;}</style><div id=\"sk-container-id-1\" class=\"sk-top-container\"><div class=\"sk-text-repr-fallback\"><pre>DecisionTreeClassifier(criterion=&#x27;entropy&#x27;, random_state=0)</pre><b>In a Jupyter environment, please rerun this cell to show the HTML representation or trust the notebook. <br />On GitHub, the HTML representation is unable to render, please try loading this page with nbviewer.org.</b></div><div class=\"sk-container\" hidden><div class=\"sk-item\"><div class=\"sk-estimator sk-toggleable\"><input class=\"sk-toggleable__control sk-hidden--visually\" id=\"sk-estimator-id-1\" type=\"checkbox\" checked><label for=\"sk-estimator-id-1\" class=\"sk-toggleable__label sk-toggleable__label-arrow\">DecisionTreeClassifier</label><div class=\"sk-toggleable__content\"><pre>DecisionTreeClassifier(criterion=&#x27;entropy&#x27;, random_state=0)</pre></div></div></div></div></div>"
            ]
          },
          "metadata": {},
          "execution_count": 27
        }
      ]
    },
    {
      "cell_type": "code",
      "source": [
        "# Predicting the features_test and comparing them with quality_test (actual value)\n",
        "quality_pred = classifier.predict(features_test)"
      ],
      "metadata": {
        "id": "Yhxsbu8yvbvp"
      },
      "execution_count": 28,
      "outputs": []
    },
    {
      "cell_type": "code",
      "source": [
        "# Printing the quality_pred and quality_test side by side for comparison.\n",
        "# To do so, we use concatenate() function with axis = 1, applying on reshaped of quality_pred and quality_test to column format.\n",
        "print(np.concatenate((quality_pred.reshape(len(quality_pred), 1), quality_test.values.reshape(len(quality_test), 1)), axis = 1))"
      ],
      "metadata": {
        "colab": {
          "base_uri": "https://localhost:8080/"
        },
        "id": "lu2FCNICv4li",
        "outputId": "b6f42164-bf32-424a-b6ab-53ce9b07f785"
      },
      "execution_count": 29,
      "outputs": [
        {
          "output_type": "stream",
          "name": "stdout",
          "text": [
            "[[5 6]\n",
            " [5 5]\n",
            " [7 7]\n",
            " [5 6]\n",
            " [5 5]\n",
            " [6 6]\n",
            " [5 5]\n",
            " [6 6]\n",
            " [4 4]\n",
            " [5 5]\n",
            " [5 5]\n",
            " [5 5]\n",
            " [6 6]\n",
            " [4 5]\n",
            " [7 6]\n",
            " [6 6]\n",
            " [7 7]\n",
            " [4 5]\n",
            " [5 5]\n",
            " [4 4]\n",
            " [7 7]\n",
            " [6 6]\n",
            " [6 6]\n",
            " [4 4]\n",
            " [5 6]\n",
            " [5 5]\n",
            " [5 5]\n",
            " [6 7]\n",
            " [5 5]\n",
            " [6 6]\n",
            " [6 5]\n",
            " [6 6]\n",
            " [6 5]\n",
            " [5 6]\n",
            " [7 7]\n",
            " [7 7]\n",
            " [6 5]\n",
            " [3 6]\n",
            " [7 6]\n",
            " [6 7]\n",
            " [5 5]\n",
            " [6 7]\n",
            " [6 6]\n",
            " [7 6]\n",
            " [6 5]\n",
            " [5 5]\n",
            " [6 6]\n",
            " [6 6]\n",
            " [5 6]\n",
            " [6 5]\n",
            " [5 5]\n",
            " [5 5]\n",
            " [6 6]\n",
            " [6 6]\n",
            " [6 6]\n",
            " [5 5]\n",
            " [5 5]\n",
            " [5 5]\n",
            " [7 6]\n",
            " [6 5]\n",
            " [5 5]\n",
            " [7 6]\n",
            " [6 6]\n",
            " [6 6]\n",
            " [5 5]\n",
            " [6 6]\n",
            " [5 5]\n",
            " [5 5]\n",
            " [6 6]\n",
            " [6 6]\n",
            " [6 6]\n",
            " [6 6]\n",
            " [5 4]\n",
            " [6 6]\n",
            " [6 5]\n",
            " [6 6]\n",
            " [5 5]\n",
            " [5 5]\n",
            " [5 5]\n",
            " [7 6]\n",
            " [6 6]\n",
            " [5 5]\n",
            " [6 6]\n",
            " [7 6]\n",
            " [6 6]\n",
            " [6 5]\n",
            " [4 6]\n",
            " [5 5]\n",
            " [5 5]\n",
            " [5 5]\n",
            " [5 5]\n",
            " [6 6]\n",
            " [6 4]\n",
            " [6 5]\n",
            " [5 7]\n",
            " [6 6]\n",
            " [6 6]\n",
            " [5 5]\n",
            " [5 6]\n",
            " [5 5]\n",
            " [7 8]\n",
            " [6 6]\n",
            " [6 6]\n",
            " [6 6]\n",
            " [5 5]\n",
            " [5 5]\n",
            " [5 5]\n",
            " [3 5]\n",
            " [6 7]\n",
            " [5 5]\n",
            " [6 6]\n",
            " [5 5]\n",
            " [8 7]\n",
            " [6 5]\n",
            " [5 6]\n",
            " [6 6]\n",
            " [6 6]\n",
            " [7 7]\n",
            " [6 6]\n",
            " [6 6]\n",
            " [5 5]\n",
            " [4 7]\n",
            " [5 5]\n",
            " [6 5]\n",
            " [7 6]\n",
            " [6 6]\n",
            " [5 5]\n",
            " [5 5]\n",
            " [6 5]\n",
            " [7 6]\n",
            " [4 6]\n",
            " [5 6]\n",
            " [5 6]\n",
            " [5 6]\n",
            " [6 6]\n",
            " [5 5]\n",
            " [6 6]\n",
            " [5 5]\n",
            " [7 8]\n",
            " [5 5]\n",
            " [6 6]\n",
            " [6 5]\n",
            " [6 6]\n",
            " [3 5]\n",
            " [6 4]\n",
            " [6 6]\n",
            " [8 7]\n",
            " [6 6]\n",
            " [5 5]\n",
            " [5 6]\n",
            " [6 6]\n",
            " [5 5]\n",
            " [3 5]\n",
            " [5 5]\n",
            " [6 6]\n",
            " [6 6]\n",
            " [4 3]\n",
            " [6 6]\n",
            " [6 6]\n",
            " [6 6]\n",
            " [6 6]\n",
            " [5 6]\n",
            " [7 6]\n",
            " [4 6]\n",
            " [5 5]\n",
            " [5 5]\n",
            " [6 6]\n",
            " [6 6]\n",
            " [6 6]\n",
            " [6 6]\n",
            " [6 5]\n",
            " [4 5]\n",
            " [4 5]\n",
            " [7 8]\n",
            " [6 5]\n",
            " [7 6]\n",
            " [6 6]\n",
            " [7 7]\n",
            " [7 7]\n",
            " [5 5]\n",
            " [5 5]\n",
            " [8 7]\n",
            " [6 5]\n",
            " [6 6]\n",
            " [7 6]\n",
            " [5 4]\n",
            " [5 5]\n",
            " [6 6]\n",
            " [5 5]\n",
            " [6 5]\n",
            " [7 6]\n",
            " [6 5]\n",
            " [5 6]\n",
            " [6 6]\n",
            " [5 5]\n",
            " [5 5]\n",
            " [5 5]\n",
            " [5 5]\n",
            " [7 5]\n",
            " [5 5]\n",
            " [5 5]\n",
            " [6 6]\n",
            " [6 6]\n",
            " [6 5]\n",
            " [5 6]\n",
            " [5 6]\n",
            " [5 5]\n",
            " [6 6]\n",
            " [6 7]\n",
            " [6 6]\n",
            " [6 6]\n",
            " [7 6]\n",
            " [5 5]\n",
            " [7 5]\n",
            " [5 5]\n",
            " [6 6]\n",
            " [5 5]\n",
            " [5 6]\n",
            " [6 6]\n",
            " [6 5]\n",
            " [5 5]\n",
            " [6 5]\n",
            " [6 6]\n",
            " [5 6]\n",
            " [6 5]\n",
            " [6 6]\n",
            " [6 6]\n",
            " [6 6]\n",
            " [5 3]\n",
            " [5 6]\n",
            " [5 5]\n",
            " [7 5]\n",
            " [6 7]\n",
            " [5 6]\n",
            " [6 7]\n",
            " [6 6]\n",
            " [5 6]\n",
            " [6 7]\n",
            " [7 7]\n",
            " [6 6]\n",
            " [5 5]\n",
            " [5 6]\n",
            " [5 5]\n",
            " [4 5]\n",
            " [6 6]\n",
            " [5 5]\n",
            " [6 5]\n",
            " [5 5]\n",
            " [5 5]\n",
            " [6 6]\n",
            " [5 5]\n",
            " [5 5]\n",
            " [6 5]\n",
            " [5 6]\n",
            " [6 6]\n",
            " [5 5]\n",
            " [5 5]\n",
            " [4 5]\n",
            " [5 6]\n",
            " [7 7]\n",
            " [6 5]\n",
            " [6 6]\n",
            " [5 5]\n",
            " [6 6]\n",
            " [5 5]\n",
            " [3 4]\n",
            " [5 5]\n",
            " [6 5]\n",
            " [6 6]\n",
            " [7 7]\n",
            " [5 6]\n",
            " [6 5]\n",
            " [6 5]\n",
            " [6 4]\n",
            " [5 5]\n",
            " [6 6]\n",
            " [7 7]\n",
            " [6 6]\n",
            " [6 6]\n",
            " [5 7]\n",
            " [5 5]\n",
            " [6 7]\n",
            " [6 5]\n",
            " [5 6]\n",
            " [6 6]\n",
            " [5 5]\n",
            " [6 5]\n",
            " [5 5]\n",
            " [7 6]\n",
            " [6 6]\n",
            " [5 5]\n",
            " [5 6]\n",
            " [6 6]\n",
            " [6 6]\n",
            " [5 5]\n",
            " [6 6]\n",
            " [5 6]\n",
            " [6 5]\n",
            " [5 6]\n",
            " [5 5]\n",
            " [6 6]\n",
            " [5 5]\n",
            " [6 6]\n",
            " [5 6]\n",
            " [6 6]\n",
            " [6 6]\n",
            " [5 5]\n",
            " [5 5]\n",
            " [6 6]\n",
            " [5 5]\n",
            " [7 5]\n",
            " [6 6]\n",
            " [5 5]\n",
            " [5 5]\n",
            " [5 5]\n",
            " [6 6]\n",
            " [7 4]\n",
            " [5 5]\n",
            " [5 4]\n",
            " [6 6]\n",
            " [5 5]\n",
            " [6 5]\n",
            " [6 5]\n",
            " [7 8]\n",
            " [6 6]\n",
            " [4 6]\n",
            " [7 7]\n",
            " [5 6]\n",
            " [5 5]\n",
            " [4 5]\n",
            " [7 7]\n",
            " [6 5]\n",
            " [5 5]\n",
            " [6 5]\n",
            " [4 5]\n",
            " [7 6]\n",
            " [7 7]\n",
            " [5 5]\n",
            " [5 4]\n",
            " [5 5]\n",
            " [5 5]\n",
            " [5 5]\n",
            " [5 5]\n",
            " [6 8]\n",
            " [6 6]\n",
            " [5 5]\n",
            " [6 6]\n",
            " [6 5]\n",
            " [6 5]\n",
            " [7 7]\n",
            " [6 5]\n",
            " [6 6]\n",
            " [6 5]\n",
            " [6 6]\n",
            " [7 7]\n",
            " [4 5]\n",
            " [7 6]\n",
            " [5 6]\n",
            " [5 5]\n",
            " [7 7]\n",
            " [5 5]\n",
            " [6 6]\n",
            " [5 5]\n",
            " [6 7]\n",
            " [7 5]\n",
            " [5 5]\n",
            " [3 6]\n",
            " [6 7]\n",
            " [6 6]\n",
            " [5 4]\n",
            " [7 6]\n",
            " [5 6]\n",
            " [5 4]\n",
            " [6 7]\n",
            " [5 6]\n",
            " [5 5]\n",
            " [5 5]\n",
            " [7 7]\n",
            " [6 6]\n",
            " [6 6]\n",
            " [6 6]\n",
            " [6 6]\n",
            " [4 5]\n",
            " [6 6]\n",
            " [6 6]\n",
            " [6 6]\n",
            " [7 6]\n",
            " [5 5]\n",
            " [6 6]\n",
            " [5 7]\n",
            " [6 6]\n",
            " [5 6]\n",
            " [5 5]\n",
            " [7 7]\n",
            " [4 5]\n",
            " [5 6]\n",
            " [7 5]\n",
            " [7 5]\n",
            " [5 7]\n",
            " [5 5]]\n"
          ]
        }
      ]
    },
    {
      "cell_type": "code",
      "source": [
        "# Making the confusion matrix and accuracy score:\n",
        "from sklearn.metrics import confusion_matrix, accuracy_score\n",
        "d_cm = confusion_matrix(quality_test, quality_pred)\n",
        "print(d_cm)"
      ],
      "metadata": {
        "colab": {
          "base_uri": "https://localhost:8080/"
        },
        "id": "bHlkQ2NLwYLM",
        "outputId": "56b63e71-55e4-4937-ce28-a5a5877a67e1"
      },
      "execution_count": 30,
      "outputs": [
        {
          "output_type": "stream",
          "name": "stdout",
          "text": [
            "[[  0   1   1   0   0   0]\n",
            " [  1   3   6   3   1   0]\n",
            " [  3  11 109  39   7   0]\n",
            " [  2   4  35 110  19   0]\n",
            " [  0   1   4  12  20   3]\n",
            " [  0   0   0   1   4   0]]\n"
          ]
        }
      ]
    },
    {
      "cell_type": "code",
      "source": [
        "accuracy_score(quality_test, quality_pred)"
      ],
      "metadata": {
        "colab": {
          "base_uri": "https://localhost:8080/"
        },
        "id": "bZPGuXM2x1U9",
        "outputId": "8d8c7b94-2a74-4fa8-d7ab-bbca9e4e7c3f"
      },
      "execution_count": 31,
      "outputs": [
        {
          "output_type": "execute_result",
          "data": {
            "text/plain": [
              "0.605"
            ]
          },
          "metadata": {},
          "execution_count": 31
        }
      ]
    },
    {
      "cell_type": "markdown",
      "source": [
        "The accuracy score for Decision Tree Model is 0.605."
      ],
      "metadata": {
        "id": "qZyE-Uj0Z3BY"
      }
    },
    {
      "cell_type": "markdown",
      "source": [
        "Random Forest Model:"
      ],
      "metadata": {
        "id": "i0qjm-bezOFy"
      }
    },
    {
      "cell_type": "code",
      "source": [
        "# We have already done feature scaling and spliting data into training and testing set, so we will use them.\n",
        "# We will start with training our random forest model.\n",
        "from sklearn.ensemble import RandomForestClassifier\n",
        "rf_classifier = RandomForestClassifier(n_estimators = 20, criterion = 'entropy', random_state = 0)\n",
        "rf_classifier.fit(features_train, quality_train)"
      ],
      "metadata": {
        "colab": {
          "base_uri": "https://localhost:8080/",
          "height": 74
        },
        "id": "RmvYRxzsy_ZU",
        "outputId": "646e98a8-495a-4ee5-cb07-a865ef60ff5d"
      },
      "execution_count": 32,
      "outputs": [
        {
          "output_type": "execute_result",
          "data": {
            "text/plain": [
              "RandomForestClassifier(criterion='entropy', n_estimators=20, random_state=0)"
            ],
            "text/html": [
              "<style>#sk-container-id-2 {color: black;}#sk-container-id-2 pre{padding: 0;}#sk-container-id-2 div.sk-toggleable {background-color: white;}#sk-container-id-2 label.sk-toggleable__label {cursor: pointer;display: block;width: 100%;margin-bottom: 0;padding: 0.3em;box-sizing: border-box;text-align: center;}#sk-container-id-2 label.sk-toggleable__label-arrow:before {content: \"▸\";float: left;margin-right: 0.25em;color: #696969;}#sk-container-id-2 label.sk-toggleable__label-arrow:hover:before {color: black;}#sk-container-id-2 div.sk-estimator:hover label.sk-toggleable__label-arrow:before {color: black;}#sk-container-id-2 div.sk-toggleable__content {max-height: 0;max-width: 0;overflow: hidden;text-align: left;background-color: #f0f8ff;}#sk-container-id-2 div.sk-toggleable__content pre {margin: 0.2em;color: black;border-radius: 0.25em;background-color: #f0f8ff;}#sk-container-id-2 input.sk-toggleable__control:checked~div.sk-toggleable__content {max-height: 200px;max-width: 100%;overflow: auto;}#sk-container-id-2 input.sk-toggleable__control:checked~label.sk-toggleable__label-arrow:before {content: \"▾\";}#sk-container-id-2 div.sk-estimator input.sk-toggleable__control:checked~label.sk-toggleable__label {background-color: #d4ebff;}#sk-container-id-2 div.sk-label input.sk-toggleable__control:checked~label.sk-toggleable__label {background-color: #d4ebff;}#sk-container-id-2 input.sk-hidden--visually {border: 0;clip: rect(1px 1px 1px 1px);clip: rect(1px, 1px, 1px, 1px);height: 1px;margin: -1px;overflow: hidden;padding: 0;position: absolute;width: 1px;}#sk-container-id-2 div.sk-estimator {font-family: monospace;background-color: #f0f8ff;border: 1px dotted black;border-radius: 0.25em;box-sizing: border-box;margin-bottom: 0.5em;}#sk-container-id-2 div.sk-estimator:hover {background-color: #d4ebff;}#sk-container-id-2 div.sk-parallel-item::after {content: \"\";width: 100%;border-bottom: 1px solid gray;flex-grow: 1;}#sk-container-id-2 div.sk-label:hover label.sk-toggleable__label {background-color: #d4ebff;}#sk-container-id-2 div.sk-serial::before {content: \"\";position: absolute;border-left: 1px solid gray;box-sizing: border-box;top: 0;bottom: 0;left: 50%;z-index: 0;}#sk-container-id-2 div.sk-serial {display: flex;flex-direction: column;align-items: center;background-color: white;padding-right: 0.2em;padding-left: 0.2em;position: relative;}#sk-container-id-2 div.sk-item {position: relative;z-index: 1;}#sk-container-id-2 div.sk-parallel {display: flex;align-items: stretch;justify-content: center;background-color: white;position: relative;}#sk-container-id-2 div.sk-item::before, #sk-container-id-2 div.sk-parallel-item::before {content: \"\";position: absolute;border-left: 1px solid gray;box-sizing: border-box;top: 0;bottom: 0;left: 50%;z-index: -1;}#sk-container-id-2 div.sk-parallel-item {display: flex;flex-direction: column;z-index: 1;position: relative;background-color: white;}#sk-container-id-2 div.sk-parallel-item:first-child::after {align-self: flex-end;width: 50%;}#sk-container-id-2 div.sk-parallel-item:last-child::after {align-self: flex-start;width: 50%;}#sk-container-id-2 div.sk-parallel-item:only-child::after {width: 0;}#sk-container-id-2 div.sk-dashed-wrapped {border: 1px dashed gray;margin: 0 0.4em 0.5em 0.4em;box-sizing: border-box;padding-bottom: 0.4em;background-color: white;}#sk-container-id-2 div.sk-label label {font-family: monospace;font-weight: bold;display: inline-block;line-height: 1.2em;}#sk-container-id-2 div.sk-label-container {text-align: center;}#sk-container-id-2 div.sk-container {/* jupyter's `normalize.less` sets `[hidden] { display: none; }` but bootstrap.min.css set `[hidden] { display: none !important; }` so we also need the `!important` here to be able to override the default hidden behavior on the sphinx rendered scikit-learn.org. See: https://github.com/scikit-learn/scikit-learn/issues/21755 */display: inline-block !important;position: relative;}#sk-container-id-2 div.sk-text-repr-fallback {display: none;}</style><div id=\"sk-container-id-2\" class=\"sk-top-container\"><div class=\"sk-text-repr-fallback\"><pre>RandomForestClassifier(criterion=&#x27;entropy&#x27;, n_estimators=20, random_state=0)</pre><b>In a Jupyter environment, please rerun this cell to show the HTML representation or trust the notebook. <br />On GitHub, the HTML representation is unable to render, please try loading this page with nbviewer.org.</b></div><div class=\"sk-container\" hidden><div class=\"sk-item\"><div class=\"sk-estimator sk-toggleable\"><input class=\"sk-toggleable__control sk-hidden--visually\" id=\"sk-estimator-id-2\" type=\"checkbox\" checked><label for=\"sk-estimator-id-2\" class=\"sk-toggleable__label sk-toggleable__label-arrow\">RandomForestClassifier</label><div class=\"sk-toggleable__content\"><pre>RandomForestClassifier(criterion=&#x27;entropy&#x27;, n_estimators=20, random_state=0)</pre></div></div></div></div></div>"
            ]
          },
          "metadata": {},
          "execution_count": 32
        }
      ]
    },
    {
      "cell_type": "code",
      "source": [
        "rf_quality_pred = rf_classifier.predict(features_test)"
      ],
      "metadata": {
        "id": "zT7g8CFx1NuX"
      },
      "execution_count": 33,
      "outputs": []
    },
    {
      "cell_type": "code",
      "source": [
        "print(np.concatenate((rf_quality_pred.reshape(len(rf_quality_pred), 1), quality_test.values.reshape(len(quality_test), 1)), axis = 1))"
      ],
      "metadata": {
        "colab": {
          "base_uri": "https://localhost:8080/"
        },
        "id": "zsqwWBnc1Vt5",
        "outputId": "3e8e3c1d-31f0-4fe5-b63b-1cdf73b68a94"
      },
      "execution_count": 34,
      "outputs": [
        {
          "output_type": "stream",
          "name": "stdout",
          "text": [
            "[[6 6]\n",
            " [5 5]\n",
            " [7 7]\n",
            " [5 6]\n",
            " [5 5]\n",
            " [6 6]\n",
            " [5 5]\n",
            " [6 6]\n",
            " [5 4]\n",
            " [5 5]\n",
            " [5 5]\n",
            " [5 5]\n",
            " [6 6]\n",
            " [6 5]\n",
            " [6 6]\n",
            " [7 6]\n",
            " [7 7]\n",
            " [5 5]\n",
            " [5 5]\n",
            " [5 4]\n",
            " [6 7]\n",
            " [5 6]\n",
            " [6 6]\n",
            " [6 4]\n",
            " [6 6]\n",
            " [5 5]\n",
            " [5 5]\n",
            " [7 7]\n",
            " [5 5]\n",
            " [6 6]\n",
            " [6 5]\n",
            " [6 6]\n",
            " [6 5]\n",
            " [6 6]\n",
            " [7 7]\n",
            " [7 7]\n",
            " [5 5]\n",
            " [6 6]\n",
            " [6 6]\n",
            " [6 7]\n",
            " [5 5]\n",
            " [6 7]\n",
            " [7 6]\n",
            " [7 6]\n",
            " [6 5]\n",
            " [5 5]\n",
            " [5 6]\n",
            " [6 6]\n",
            " [5 6]\n",
            " [6 5]\n",
            " [5 5]\n",
            " [5 5]\n",
            " [6 6]\n",
            " [6 6]\n",
            " [5 6]\n",
            " [5 5]\n",
            " [5 5]\n",
            " [5 5]\n",
            " [7 6]\n",
            " [6 5]\n",
            " [5 5]\n",
            " [6 6]\n",
            " [6 6]\n",
            " [6 6]\n",
            " [5 5]\n",
            " [6 6]\n",
            " [5 5]\n",
            " [5 5]\n",
            " [7 6]\n",
            " [6 6]\n",
            " [5 6]\n",
            " [5 6]\n",
            " [5 4]\n",
            " [5 6]\n",
            " [6 5]\n",
            " [6 6]\n",
            " [5 5]\n",
            " [5 5]\n",
            " [5 5]\n",
            " [7 6]\n",
            " [6 6]\n",
            " [5 5]\n",
            " [6 6]\n",
            " [6 6]\n",
            " [6 6]\n",
            " [5 5]\n",
            " [6 6]\n",
            " [5 5]\n",
            " [5 5]\n",
            " [5 5]\n",
            " [5 5]\n",
            " [6 6]\n",
            " [6 4]\n",
            " [5 5]\n",
            " [7 7]\n",
            " [5 6]\n",
            " [6 6]\n",
            " [5 5]\n",
            " [5 6]\n",
            " [5 5]\n",
            " [7 8]\n",
            " [7 6]\n",
            " [6 6]\n",
            " [6 6]\n",
            " [5 5]\n",
            " [5 5]\n",
            " [5 5]\n",
            " [6 5]\n",
            " [6 7]\n",
            " [5 5]\n",
            " [6 6]\n",
            " [5 5]\n",
            " [8 7]\n",
            " [5 5]\n",
            " [6 6]\n",
            " [6 6]\n",
            " [5 6]\n",
            " [7 7]\n",
            " [6 6]\n",
            " [6 6]\n",
            " [5 5]\n",
            " [6 7]\n",
            " [5 5]\n",
            " [5 5]\n",
            " [6 6]\n",
            " [7 6]\n",
            " [5 5]\n",
            " [5 5]\n",
            " [6 5]\n",
            " [6 6]\n",
            " [5 6]\n",
            " [5 6]\n",
            " [6 6]\n",
            " [6 6]\n",
            " [6 6]\n",
            " [5 5]\n",
            " [6 6]\n",
            " [5 5]\n",
            " [6 8]\n",
            " [5 5]\n",
            " [6 6]\n",
            " [5 5]\n",
            " [5 6]\n",
            " [6 5]\n",
            " [5 4]\n",
            " [6 6]\n",
            " [8 7]\n",
            " [6 6]\n",
            " [5 5]\n",
            " [5 6]\n",
            " [5 6]\n",
            " [6 5]\n",
            " [6 5]\n",
            " [5 5]\n",
            " [6 6]\n",
            " [6 6]\n",
            " [6 3]\n",
            " [5 6]\n",
            " [6 6]\n",
            " [6 6]\n",
            " [6 6]\n",
            " [6 6]\n",
            " [7 6]\n",
            " [5 6]\n",
            " [5 5]\n",
            " [5 5]\n",
            " [6 6]\n",
            " [6 6]\n",
            " [6 6]\n",
            " [6 6]\n",
            " [6 5]\n",
            " [5 5]\n",
            " [5 5]\n",
            " [7 8]\n",
            " [5 5]\n",
            " [6 6]\n",
            " [5 6]\n",
            " [7 7]\n",
            " [7 7]\n",
            " [5 5]\n",
            " [5 5]\n",
            " [6 7]\n",
            " [6 5]\n",
            " [6 6]\n",
            " [6 6]\n",
            " [5 4]\n",
            " [6 5]\n",
            " [6 6]\n",
            " [5 5]\n",
            " [6 5]\n",
            " [6 6]\n",
            " [6 5]\n",
            " [5 6]\n",
            " [6 6]\n",
            " [5 5]\n",
            " [5 5]\n",
            " [5 5]\n",
            " [5 5]\n",
            " [5 5]\n",
            " [5 5]\n",
            " [5 5]\n",
            " [6 6]\n",
            " [6 6]\n",
            " [6 5]\n",
            " [6 6]\n",
            " [5 6]\n",
            " [5 5]\n",
            " [6 6]\n",
            " [6 7]\n",
            " [6 6]\n",
            " [6 6]\n",
            " [6 6]\n",
            " [5 5]\n",
            " [7 5]\n",
            " [5 5]\n",
            " [6 6]\n",
            " [5 5]\n",
            " [7 6]\n",
            " [6 6]\n",
            " [5 5]\n",
            " [5 5]\n",
            " [6 5]\n",
            " [6 6]\n",
            " [6 6]\n",
            " [6 5]\n",
            " [6 6]\n",
            " [6 6]\n",
            " [6 6]\n",
            " [5 3]\n",
            " [6 6]\n",
            " [5 5]\n",
            " [6 5]\n",
            " [5 7]\n",
            " [6 6]\n",
            " [7 7]\n",
            " [6 6]\n",
            " [6 6]\n",
            " [7 7]\n",
            " [7 7]\n",
            " [6 6]\n",
            " [5 5]\n",
            " [6 6]\n",
            " [5 5]\n",
            " [5 5]\n",
            " [6 6]\n",
            " [5 5]\n",
            " [5 5]\n",
            " [5 5]\n",
            " [5 5]\n",
            " [6 6]\n",
            " [5 5]\n",
            " [5 5]\n",
            " [5 5]\n",
            " [6 6]\n",
            " [5 6]\n",
            " [5 5]\n",
            " [5 5]\n",
            " [5 5]\n",
            " [5 6]\n",
            " [7 7]\n",
            " [6 5]\n",
            " [6 6]\n",
            " [5 5]\n",
            " [6 6]\n",
            " [6 5]\n",
            " [5 4]\n",
            " [5 5]\n",
            " [5 5]\n",
            " [6 6]\n",
            " [6 7]\n",
            " [5 6]\n",
            " [5 5]\n",
            " [5 5]\n",
            " [6 4]\n",
            " [6 5]\n",
            " [6 6]\n",
            " [6 7]\n",
            " [6 6]\n",
            " [6 6]\n",
            " [7 7]\n",
            " [5 5]\n",
            " [7 7]\n",
            " [5 5]\n",
            " [6 6]\n",
            " [6 6]\n",
            " [5 5]\n",
            " [5 5]\n",
            " [5 5]\n",
            " [7 6]\n",
            " [6 6]\n",
            " [5 5]\n",
            " [4 6]\n",
            " [6 6]\n",
            " [5 6]\n",
            " [5 5]\n",
            " [6 6]\n",
            " [6 6]\n",
            " [5 5]\n",
            " [5 6]\n",
            " [5 5]\n",
            " [6 6]\n",
            " [5 5]\n",
            " [6 6]\n",
            " [6 6]\n",
            " [6 6]\n",
            " [6 6]\n",
            " [6 5]\n",
            " [5 5]\n",
            " [5 6]\n",
            " [5 5]\n",
            " [5 5]\n",
            " [6 6]\n",
            " [5 5]\n",
            " [5 5]\n",
            " [5 5]\n",
            " [6 6]\n",
            " [6 4]\n",
            " [7 5]\n",
            " [5 4]\n",
            " [7 6]\n",
            " [5 5]\n",
            " [5 5]\n",
            " [7 5]\n",
            " [7 8]\n",
            " [6 6]\n",
            " [6 6]\n",
            " [7 7]\n",
            " [6 6]\n",
            " [5 5]\n",
            " [5 5]\n",
            " [7 7]\n",
            " [5 5]\n",
            " [5 5]\n",
            " [6 5]\n",
            " [5 5]\n",
            " [6 6]\n",
            " [7 7]\n",
            " [5 5]\n",
            " [5 4]\n",
            " [6 5]\n",
            " [5 5]\n",
            " [5 5]\n",
            " [5 5]\n",
            " [6 8]\n",
            " [6 6]\n",
            " [5 5]\n",
            " [6 6]\n",
            " [5 5]\n",
            " [5 5]\n",
            " [7 7]\n",
            " [5 5]\n",
            " [6 6]\n",
            " [5 5]\n",
            " [5 6]\n",
            " [6 7]\n",
            " [5 5]\n",
            " [6 6]\n",
            " [5 6]\n",
            " [6 5]\n",
            " [7 7]\n",
            " [5 5]\n",
            " [6 6]\n",
            " [5 5]\n",
            " [6 7]\n",
            " [6 5]\n",
            " [5 5]\n",
            " [6 6]\n",
            " [6 7]\n",
            " [5 6]\n",
            " [5 4]\n",
            " [6 6]\n",
            " [6 6]\n",
            " [5 4]\n",
            " [6 7]\n",
            " [5 6]\n",
            " [5 5]\n",
            " [6 5]\n",
            " [6 7]\n",
            " [6 6]\n",
            " [6 6]\n",
            " [6 6]\n",
            " [6 6]\n",
            " [5 5]\n",
            " [5 6]\n",
            " [5 6]\n",
            " [6 6]\n",
            " [5 6]\n",
            " [5 5]\n",
            " [6 6]\n",
            " [5 7]\n",
            " [6 6]\n",
            " [5 6]\n",
            " [5 5]\n",
            " [7 7]\n",
            " [6 5]\n",
            " [6 6]\n",
            " [5 5]\n",
            " [5 5]\n",
            " [5 7]\n",
            " [5 5]]\n"
          ]
        }
      ]
    },
    {
      "cell_type": "code",
      "source": [
        "# Making confusion matrix and accuracy score:\n",
        "rf_cm = confusion_matrix(quality_test, rf_quality_pred)\n",
        "print(rf_cm)"
      ],
      "metadata": {
        "colab": {
          "base_uri": "https://localhost:8080/"
        },
        "id": "L_qYNdqD17d5",
        "outputId": "77bf5701-ec81-4477-fda3-95448d98c7bd"
      },
      "execution_count": 35,
      "outputs": [
        {
          "output_type": "stream",
          "name": "stdout",
          "text": [
            "[[  0   0   1   1   0   0]\n",
            " [  0   0  10   4   0   0]\n",
            " [  0   0 135  31   3   0]\n",
            " [  0   1  35 122  12   0]\n",
            " [  0   0   3  14  21   2]\n",
            " [  0   0   0   2   3   0]]\n"
          ]
        }
      ]
    },
    {
      "cell_type": "code",
      "source": [
        "accuracy_score(quality_test, rf_quality_pred)"
      ],
      "metadata": {
        "colab": {
          "base_uri": "https://localhost:8080/"
        },
        "id": "VDi7Z-mH20Mb",
        "outputId": "dbd956b9-6302-498d-84df-7162318f275a"
      },
      "execution_count": 36,
      "outputs": [
        {
          "output_type": "execute_result",
          "data": {
            "text/plain": [
              "0.695"
            ]
          },
          "metadata": {},
          "execution_count": 36
        }
      ]
    },
    {
      "cell_type": "markdown",
      "source": [
        "The accuracy score of Random Forest Model with n_estimators = 20 is 0.695."
      ],
      "metadata": {
        "id": "cHzIc0CWaRt7"
      }
    },
    {
      "cell_type": "markdown",
      "source": [
        "The accuracy score of Random Forest (0.695) is higher than Decision Tree algorithm (0.605).\n",
        "\n",
        "Hence, Random Forest model is more accurate for our dataset."
      ],
      "metadata": {
        "id": "AjgdgXuvAjg1"
      }
    },
    {
      "cell_type": "markdown",
      "source": [
        "\n",
        "\n",
        "---\n",
        "\n",
        "\n",
        "\n",
        "---\n",
        "\n"
      ],
      "metadata": {
        "id": "XZfQyEa_A7cx"
      }
    }
  ]
}